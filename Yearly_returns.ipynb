{
  "nbformat": 4,
  "nbformat_minor": 0,
  "metadata": {
    "colab": {
      "provenance": [],
      "authorship_tag": "ABX9TyNhCQzxiWXD/gThar5TPmGf",
      "include_colab_link": true
    },
    "kernelspec": {
      "name": "python3",
      "display_name": "Python 3"
    },
    "language_info": {
      "name": "python"
    }
  },
  "cells": [
    {
      "cell_type": "markdown",
      "metadata": {
        "id": "view-in-github",
        "colab_type": "text"
      },
      "source": [
        "<a href=\"https://colab.research.google.com/github/Bprafull/Bprafull/blob/main/Yearly_returns.ipynb\" target=\"_parent\"><img src=\"https://colab.research.google.com/assets/colab-badge.svg\" alt=\"Open In Colab\"/></a>"
      ]
    },
    {
      "cell_type": "code",
      "source": [
        "!pip install yfinance tqdm\n"
      ],
      "metadata": {
        "colab": {
          "base_uri": "https://localhost:8080/"
        },
        "id": "6wdaEf4iPNy3",
        "outputId": "cb6855dd-6f04-41a5-805e-72aeee055891"
      },
      "execution_count": 15,
      "outputs": [
        {
          "output_type": "stream",
          "name": "stdout",
          "text": [
            "Requirement already satisfied: yfinance in /usr/local/lib/python3.12/dist-packages (0.2.66)\n",
            "Requirement already satisfied: tqdm in /usr/local/lib/python3.12/dist-packages (4.67.1)\n",
            "Requirement already satisfied: pandas>=1.3.0 in /usr/local/lib/python3.12/dist-packages (from yfinance) (2.2.2)\n",
            "Requirement already satisfied: numpy>=1.16.5 in /usr/local/lib/python3.12/dist-packages (from yfinance) (2.0.2)\n",
            "Requirement already satisfied: requests>=2.31 in /usr/local/lib/python3.12/dist-packages (from yfinance) (2.32.4)\n",
            "Requirement already satisfied: multitasking>=0.0.7 in /usr/local/lib/python3.12/dist-packages (from yfinance) (0.0.12)\n",
            "Requirement already satisfied: platformdirs>=2.0.0 in /usr/local/lib/python3.12/dist-packages (from yfinance) (4.5.0)\n",
            "Requirement already satisfied: pytz>=2022.5 in /usr/local/lib/python3.12/dist-packages (from yfinance) (2025.2)\n",
            "Requirement already satisfied: frozendict>=2.3.4 in /usr/local/lib/python3.12/dist-packages (from yfinance) (2.4.6)\n",
            "Requirement already satisfied: peewee>=3.16.2 in /usr/local/lib/python3.12/dist-packages (from yfinance) (3.18.2)\n",
            "Requirement already satisfied: beautifulsoup4>=4.11.1 in /usr/local/lib/python3.12/dist-packages (from yfinance) (4.13.5)\n",
            "Requirement already satisfied: curl_cffi>=0.7 in /usr/local/lib/python3.12/dist-packages (from yfinance) (0.13.0)\n",
            "Requirement already satisfied: protobuf>=3.19.0 in /usr/local/lib/python3.12/dist-packages (from yfinance) (5.29.5)\n",
            "Requirement already satisfied: websockets>=13.0 in /usr/local/lib/python3.12/dist-packages (from yfinance) (15.0.1)\n",
            "Requirement already satisfied: soupsieve>1.2 in /usr/local/lib/python3.12/dist-packages (from beautifulsoup4>=4.11.1->yfinance) (2.8)\n",
            "Requirement already satisfied: typing-extensions>=4.0.0 in /usr/local/lib/python3.12/dist-packages (from beautifulsoup4>=4.11.1->yfinance) (4.15.0)\n",
            "Requirement already satisfied: cffi>=1.12.0 in /usr/local/lib/python3.12/dist-packages (from curl_cffi>=0.7->yfinance) (2.0.0)\n",
            "Requirement already satisfied: certifi>=2024.2.2 in /usr/local/lib/python3.12/dist-packages (from curl_cffi>=0.7->yfinance) (2025.10.5)\n",
            "Requirement already satisfied: python-dateutil>=2.8.2 in /usr/local/lib/python3.12/dist-packages (from pandas>=1.3.0->yfinance) (2.9.0.post0)\n",
            "Requirement already satisfied: tzdata>=2022.7 in /usr/local/lib/python3.12/dist-packages (from pandas>=1.3.0->yfinance) (2025.2)\n",
            "Requirement already satisfied: charset_normalizer<4,>=2 in /usr/local/lib/python3.12/dist-packages (from requests>=2.31->yfinance) (3.4.4)\n",
            "Requirement already satisfied: idna<4,>=2.5 in /usr/local/lib/python3.12/dist-packages (from requests>=2.31->yfinance) (3.11)\n",
            "Requirement already satisfied: urllib3<3,>=1.21.1 in /usr/local/lib/python3.12/dist-packages (from requests>=2.31->yfinance) (2.5.0)\n",
            "Requirement already satisfied: pycparser in /usr/local/lib/python3.12/dist-packages (from cffi>=1.12.0->curl_cffi>=0.7->yfinance) (2.23)\n",
            "Requirement already satisfied: six>=1.5 in /usr/local/lib/python3.12/dist-packages (from python-dateutil>=2.8.2->pandas>=1.3.0->yfinance) (1.17.0)\n"
          ]
        }
      ]
    },
    {
      "cell_type": "code",
      "source": [
        "import yfinance as yf\n",
        "import pandas as pd\n",
        "from tqdm import tqdm   # progress bar"
      ],
      "metadata": {
        "id": "o9nStGErQJYZ"
      },
      "execution_count": 16,
      "outputs": []
    },
    {
      "cell_type": "code",
      "source": [
        "import yfinance as yf\n",
        "import pandas as pd\n",
        "from tqdm import tqdm\n",
        "\n",
        "def get_yearly_returns_batch(tickers, start=\"2010-01-01\", end=\"2026-01-01\"):\n",
        "    try:\n",
        "        data = yf.download(tickers, start=start, end=end, auto_adjust=False, progress=False)\n",
        "\n",
        "        results = []\n",
        "        for t in tickers:\n",
        "            # Try Adj Close first, fallback to Close\n",
        "            if ('Adj Close', t) in data.columns:\n",
        "                series = data['Adj Close'][t]\n",
        "            elif ('Close', t) in data.columns:\n",
        "                series = data['Close'][t]\n",
        "            else:\n",
        "                print(f\"No price data for {t}\")\n",
        "                continue\n",
        "\n",
        "            yearly_prices = series.resample('YE').last()\n",
        "            yearly_returns = yearly_prices.pct_change().dropna() * 100\n",
        "\n",
        "            df = pd.DataFrame({\n",
        "                'Ticker': t,\n",
        "                'Year': yearly_returns.index.year,\n",
        "                'Yearly Return (%)': yearly_returns.values.round(2)\n",
        "            })\n",
        "            results.append(df)\n",
        "        return pd.concat(results, ignore_index=True) if results else None\n",
        "\n",
        "    except Exception as e:\n",
        "        print(f\"Batch error for {tickers}: {e}\")\n",
        "        return None\n",
        "\n",
        "# Example usage\n",
        "tickers = [\"MGEL.NS\" ,\"TECHLABS.NS\" ,\"UNITEDPOLY.NS\" ,\"GOLDSTAR.NS\" ,\"BVCL.NS\" ,\"KESORAMIND.NS\" ,\"REMUS.NS\" ,\"SONAMLTD.NS\" ,\"KOTYARK.NS\" ,\"SBCL.NS\" ,\"SHVB.NS\" ,\"NACLIND.NS\" ,\"NAVA.NS\" ,\"APOLLO.NS\" ,\"ZUARI.NS\" ,\"ASAL.NS\" ,\"KODYTECH.NS\" ,\"S&SPOWER.NS\" ,\"SUDARSCHEM.NS\" ,\"SMLISUZU.NS\" ,\"OMAXAUTO.NS\" ,\"INFOLLION.NS\" ,\"TIPSMUSIC.NS\" ,\"BILVYAPAR.NS\" ,\"VGL.NS\" ,\"BANCOINDIA.NS\" ,\"BEARDSELL.NS\" ,\"BCONCEPTS.NS\" ,\"IL&FSENGG.NS\" ,\"SABTNL.NS\" ,\"VAISHALI.NS\" ,\"BIL.NS\" ,\"OMINFRAL.NS\" ,\"COOLCAPS.NS\" ,\"SAHANA.NS\" ,\"RAJRILTD.NS\" ,\"GOKULAGRO.NS\" ,\"SARVESHWAR.NS\" ,\"KAVDEFENCE.NS\" ,\"SOLEX.NS\" ,\"DYNAMIC.NS\" ,\"IPSL.NS\" ,\"KAUSHALYA.NS\" ,\"PKTEA.NS\" ,\"BLUECOAST.NS\" ,\"LGHL.NS\" ,\"KDL.NS\" ,\"CURAA.NS\" ,\"GIRIRAJ.NS\" ,\"IZMO.NS\"]\n",
        "batch_size = 50\n",
        "\n",
        "all_returns = []\n",
        "for i in tqdm(range(0, len(tickers), batch_size)):\n",
        "    batch = tickers[i:i+batch_size]\n",
        "    df = get_yearly_returns_batch(batch, start=\"2010-01-01\", end=\"2026-01-01\")\n",
        "    if df is not None:\n",
        "        all_returns.append(df)\n",
        "\n",
        "if all_returns:\n",
        "    final_df = pd.concat(all_returns, ignore_index=True)\n",
        "    print(final_df.head())\n",
        "else:\n",
        "    print(\"No data fetched\")\n",
        "\n",
        "\n",
        "\n",
        "final_df.to_csv(\"yearly_returns.csv\", index=False)\n"
      ],
      "metadata": {
        "colab": {
          "base_uri": "https://localhost:8080/"
        },
        "id": "lX3FXZTPQYIE",
        "outputId": "96895011-1e7b-4f2d-e9ce-e5cd71f480e9"
      },
      "execution_count": 21,
      "outputs": [
        {
          "output_type": "stream",
          "name": "stderr",
          "text": [
            "\r  0%|          | 0/1 [00:00<?, ?it/s]ERROR:yfinance:HTTP Error 404: {\"quoteSummary\":{\"result\":null,\"error\":{\"code\":\"Not Found\",\"description\":\"Quote not found for symbol: SHVB.NS\"}}}\n",
            "ERROR:yfinance:\n",
            "1 Failed download:\n",
            "ERROR:yfinance:['SHVB.NS']: YFTzMissingError('possibly delisted; no timezone found')\n",
            "/tmp/ipython-input-1597796773.py:21: FutureWarning: The default fill_method='pad' in Series.pct_change is deprecated and will be removed in a future version. Either fill in any non-leading NA values prior to calling pct_change or specify 'fill_method=None' to not fill NA values.\n",
            "  yearly_returns = yearly_prices.pct_change().dropna() * 100\n",
            "100%|██████████| 1/1 [00:05<00:00,  5.28s/it]"
          ]
        },
        {
          "output_type": "stream",
          "name": "stdout",
          "text": [
            "    Ticker  Year  Yearly Return (%)\n",
            "0  MGEL.NS  2020              35.75\n",
            "1  MGEL.NS  2021             170.31\n",
            "2  MGEL.NS  2022              28.49\n",
            "3  MGEL.NS  2023             -47.24\n",
            "4  MGEL.NS  2024              74.64\n"
          ]
        },
        {
          "output_type": "stream",
          "name": "stderr",
          "text": [
            "\n"
          ]
        }
      ]
    }
  ]
}