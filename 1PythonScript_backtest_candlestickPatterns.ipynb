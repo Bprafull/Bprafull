{
  "nbformat": 4,
  "nbformat_minor": 0,
  "metadata": {
    "colab": {
      "provenance": [],
      "authorship_tag": "ABX9TyME6FKg6Tqs0glEArWwUlGV",
      "include_colab_link": true
    },
    "kernelspec": {
      "name": "python3",
      "display_name": "Python 3"
    },
    "language_info": {
      "name": "python"
    }
  },
  "cells": [
    {
      "cell_type": "markdown",
      "metadata": {
        "id": "view-in-github",
        "colab_type": "text"
      },
      "source": [
        "<a href=\"https://colab.research.google.com/github/Bprafull/Bprafull/blob/main/1PythonScript_backtest_candlestickPatterns.ipynb\" target=\"_parent\"><img src=\"https://colab.research.google.com/assets/colab-badge.svg\" alt=\"Open In Colab\"/></a>"
      ]
    },
    {
      "cell_type": "code",
      "source": [
        "!pip install TA-Lib"
      ],
      "metadata": {
        "colab": {
          "base_uri": "https://localhost:8080/"
        },
        "id": "gaQh1g2aFpiA",
        "outputId": "bdcc10a4-9d13-4cc0-dee8-21fe83f84277"
      },
      "execution_count": 2,
      "outputs": [
        {
          "output_type": "stream",
          "name": "stdout",
          "text": [
            "Collecting TA-Lib\n",
            "  Downloading ta_lib-0.6.8-cp312-cp312-manylinux2014_x86_64.manylinux_2_17_x86_64.manylinux_2_28_x86_64.whl.metadata (23 kB)\n",
            "Requirement already satisfied: build in /usr/local/lib/python3.12/dist-packages (from TA-Lib) (1.3.0)\n",
            "Requirement already satisfied: numpy in /usr/local/lib/python3.12/dist-packages (from TA-Lib) (2.0.2)\n",
            "Requirement already satisfied: packaging>=19.1 in /usr/local/lib/python3.12/dist-packages (from build->TA-Lib) (25.0)\n",
            "Requirement already satisfied: pyproject_hooks in /usr/local/lib/python3.12/dist-packages (from build->TA-Lib) (1.2.0)\n",
            "Downloading ta_lib-0.6.8-cp312-cp312-manylinux2014_x86_64.manylinux_2_17_x86_64.manylinux_2_28_x86_64.whl (4.1 MB)\n",
            "\u001b[2K   \u001b[90m━━━━━━━━━━━━━━━━━━━━━━━━━━━━━━━━━━━━━━━━\u001b[0m \u001b[32m4.1/4.1 MB\u001b[0m \u001b[31m38.2 MB/s\u001b[0m eta \u001b[36m0:00:00\u001b[0m\n",
            "\u001b[?25hInstalling collected packages: TA-Lib\n",
            "Successfully installed TA-Lib-0.6.8\n"
          ]
        }
      ]
    },
    {
      "cell_type": "code",
      "source": [
        "!pip install yfinance"
      ],
      "metadata": {
        "colab": {
          "base_uri": "https://localhost:8080/"
        },
        "id": "LaFmIc3cF3X-",
        "outputId": "325f10a0-e6e2-459f-be67-0f816692d313"
      },
      "execution_count": 3,
      "outputs": [
        {
          "output_type": "stream",
          "name": "stdout",
          "text": [
            "Requirement already satisfied: yfinance in /usr/local/lib/python3.12/dist-packages (0.2.66)\n",
            "Requirement already satisfied: pandas>=1.3.0 in /usr/local/lib/python3.12/dist-packages (from yfinance) (2.2.2)\n",
            "Requirement already satisfied: numpy>=1.16.5 in /usr/local/lib/python3.12/dist-packages (from yfinance) (2.0.2)\n",
            "Requirement already satisfied: requests>=2.31 in /usr/local/lib/python3.12/dist-packages (from yfinance) (2.32.4)\n",
            "Requirement already satisfied: multitasking>=0.0.7 in /usr/local/lib/python3.12/dist-packages (from yfinance) (0.0.12)\n",
            "Requirement already satisfied: platformdirs>=2.0.0 in /usr/local/lib/python3.12/dist-packages (from yfinance) (4.5.0)\n",
            "Requirement already satisfied: pytz>=2022.5 in /usr/local/lib/python3.12/dist-packages (from yfinance) (2025.2)\n",
            "Requirement already satisfied: frozendict>=2.3.4 in /usr/local/lib/python3.12/dist-packages (from yfinance) (2.4.6)\n",
            "Requirement already satisfied: peewee>=3.16.2 in /usr/local/lib/python3.12/dist-packages (from yfinance) (3.18.2)\n",
            "Requirement already satisfied: beautifulsoup4>=4.11.1 in /usr/local/lib/python3.12/dist-packages (from yfinance) (4.13.5)\n",
            "Requirement already satisfied: curl_cffi>=0.7 in /usr/local/lib/python3.12/dist-packages (from yfinance) (0.13.0)\n",
            "Requirement already satisfied: protobuf>=3.19.0 in /usr/local/lib/python3.12/dist-packages (from yfinance) (5.29.5)\n",
            "Requirement already satisfied: websockets>=13.0 in /usr/local/lib/python3.12/dist-packages (from yfinance) (15.0.1)\n",
            "Requirement already satisfied: soupsieve>1.2 in /usr/local/lib/python3.12/dist-packages (from beautifulsoup4>=4.11.1->yfinance) (2.8)\n",
            "Requirement already satisfied: typing-extensions>=4.0.0 in /usr/local/lib/python3.12/dist-packages (from beautifulsoup4>=4.11.1->yfinance) (4.15.0)\n",
            "Requirement already satisfied: cffi>=1.12.0 in /usr/local/lib/python3.12/dist-packages (from curl_cffi>=0.7->yfinance) (2.0.0)\n",
            "Requirement already satisfied: certifi>=2024.2.2 in /usr/local/lib/python3.12/dist-packages (from curl_cffi>=0.7->yfinance) (2025.10.5)\n",
            "Requirement already satisfied: python-dateutil>=2.8.2 in /usr/local/lib/python3.12/dist-packages (from pandas>=1.3.0->yfinance) (2.9.0.post0)\n",
            "Requirement already satisfied: tzdata>=2022.7 in /usr/local/lib/python3.12/dist-packages (from pandas>=1.3.0->yfinance) (2025.2)\n",
            "Requirement already satisfied: charset_normalizer<4,>=2 in /usr/local/lib/python3.12/dist-packages (from requests>=2.31->yfinance) (3.4.4)\n",
            "Requirement already satisfied: idna<4,>=2.5 in /usr/local/lib/python3.12/dist-packages (from requests>=2.31->yfinance) (3.11)\n",
            "Requirement already satisfied: urllib3<3,>=1.21.1 in /usr/local/lib/python3.12/dist-packages (from requests>=2.31->yfinance) (2.5.0)\n",
            "Requirement already satisfied: pycparser in /usr/local/lib/python3.12/dist-packages (from cffi>=1.12.0->curl_cffi>=0.7->yfinance) (2.23)\n",
            "Requirement already satisfied: six>=1.5 in /usr/local/lib/python3.12/dist-packages (from python-dateutil>=2.8.2->pandas>=1.3.0->yfinance) (1.17.0)\n"
          ]
        }
      ]
    },
    {
      "cell_type": "code",
      "execution_count": 4,
      "metadata": {
        "colab": {
          "base_uri": "https://localhost:8080/"
        },
        "id": "KB_QlfMVBK2W",
        "outputId": "16a82667-33a3-40ab-dbf4-ca9352d6f962"
      },
      "outputs": [
        {
          "output_type": "stream",
          "name": "stdout",
          "text": [
            "Requirement already satisfied: yfinance in /usr/local/lib/python3.12/dist-packages (0.2.66)\n",
            "Requirement already satisfied: pandas in /usr/local/lib/python3.12/dist-packages (2.2.2)\n",
            "Requirement already satisfied: numpy in /usr/local/lib/python3.12/dist-packages (2.0.2)\n",
            "Requirement already satisfied: tqdm in /usr/local/lib/python3.12/dist-packages (4.67.1)\n",
            "\u001b[31mERROR: Could not find a version that satisfies the requirement talib (from versions: none)\u001b[0m\u001b[31m\n",
            "\u001b[0m\u001b[31mERROR: No matching distribution found for talib\u001b[0m\u001b[31m\n",
            "\u001b[0m"
          ]
        },
        {
          "output_type": "stream",
          "name": "stderr",
          "text": [
            "\rBatches:   0%|          | 0/13 [00:00<?, ?it/s]ERROR:yfinance:\n",
            "4 Failed downloads:\n",
            "ERROR:yfinance:['PURPLEUTED.NS', 'FICRF3GP.NS', 'DRSCARGO.NS', 'SHTR.NS']: YFTzMissingError('possibly delisted; no timezone found')\n",
            "Batches:   8%|▊         | 1/13 [00:17<03:32, 17.70s/it]ERROR:yfinance:\n",
            "2 Failed downloads:\n",
            "ERROR:yfinance:['TECHERA.NS', 'HPTL.NS']: YFTzMissingError('possibly delisted; no timezone found')\n",
            "Batches:  15%|█▌        | 2/13 [00:31<02:47, 15.22s/it]ERROR:yfinance:\n",
            "2 Failed downloads:\n",
            "ERROR:yfinance:['FOCE.NS', 'AIRTELPP.NS']: YFTzMissingError('possibly delisted; no timezone found')\n",
            "Batches:  23%|██▎       | 3/13 [00:50<02:50, 17.09s/it]ERROR:yfinance:\n",
            "1 Failed download:\n",
            "ERROR:yfinance:['ARHAM.NS']: YFTzMissingError('possibly delisted; no timezone found')\n",
            "Batches:  31%|███       | 4/13 [01:06<02:31, 16.80s/it]ERROR:yfinance:\n",
            "3 Failed downloads:\n",
            "ERROR:yfinance:['KAMI.NS', 'MACOBSTECH.NS', 'SSEGL.NS']: YFTzMissingError('possibly delisted; no timezone found')\n",
            "Batches:  38%|███▊      | 5/13 [01:25<02:20, 17.60s/it]ERROR:yfinance:\n",
            "2 Failed downloads:\n",
            "ERROR:yfinance:['VOLERCAR.NS', 'OBSCP.NS']: YFTzMissingError('possibly delisted; no timezone found')\n",
            "Batches:  46%|████▌     | 6/13 [01:39<01:53, 16.26s/it]ERROR:yfinance:\n",
            "3 Failed downloads:\n",
            "ERROR:yfinance:['AURUMPP.NS', 'EC6RG.NS', 'UPLPP1.NS']: YFTzMissingError('possibly delisted; no timezone found')\n",
            "Batches:  69%|██████▉   | 9/13 [02:20<00:58, 14.53s/it]ERROR:yfinance:\n",
            "1 Failed download:\n",
            "ERROR:yfinance:['OSELDEVICE.NS']: YFTzMissingError('possibly delisted; no timezone found')\n",
            "Batches:  77%|███████▋  | 10/13 [02:33<00:42, 14.08s/it]ERROR:yfinance:\n",
            "1 Failed download:\n",
            "ERROR:yfinance:['PDUMJEIND.NS']: YFTzMissingError('possibly delisted; no timezone found')\n",
            "Batches:  85%|████████▍ | 11/13 [02:47<00:27, 13.80s/it]ERROR:yfinance:\n",
            "3 Failed downloads:\n",
            "ERROR:yfinance:['SHUBHSHREE.NS', 'SHVB.NS', 'APRAMEYA.NS']: YFTzMissingError('possibly delisted; no timezone found')\n",
            "Batches: 100%|██████████| 13/13 [03:06<00:00, 14.33s/it]"
          ]
        },
        {
          "output_type": "stream",
          "name": "stdout",
          "text": [
            "\n",
            "Aggregated pattern performance (sorted):\n",
            "                                 N    WinRate    AvgGain   AvgLoss  \\\n",
            "Pattern                                                              \n",
            "Bullish Harami Cross      2.445255  57.667810  10.576131 -4.645766   \n",
            "Bullish Harami            5.936416  57.420116  11.432081 -6.651734   \n",
            "Bullish Belt Hold         9.655367  57.011356  11.515763 -7.721638   \n",
            "Homing Pigeon             2.122302  58.535612   8.122086 -4.557914   \n",
            "Bullish Separating Lines  1.242424  52.171667   7.118788 -3.900606   \n",
            "Bullish Piercing          1.288136  58.333390   8.312542 -4.558305   \n",
            "Three Inside Up           2.037037  49.308667   7.018370 -4.570444   \n",
            "Bullish Engulfing         4.291667  54.070536   9.633690 -6.662679   \n",
            "Bullish Counter Attack    1.000000  50.000000   3.952500 -1.695000   \n",
            "Upside Tasuki Gap         1.200000  52.500000   7.146000 -4.938500   \n",
            "\n",
            "                          Expectancy  MedianRet  \n",
            "Pattern                                          \n",
            "Bullish Harami Cross        4.089854   3.701022  \n",
            "Bullish Harami              3.657399   2.923410  \n",
            "Bullish Belt Hold           3.202373   2.327288  \n",
            "Homing Pigeon               3.199856   3.270144  \n",
            "Bullish Separating Lines    2.831515   2.450152  \n",
            "Bullish Piercing            2.572034   2.184915  \n",
            "Three Inside Up             2.339630   2.023407  \n",
            "Bullish Engulfing           2.290952   1.976429  \n",
            "Bullish Counter Attack      2.257500   2.257500  \n",
            "Upside Tasuki Gap           1.262000   1.262000  \n"
          ]
        },
        {
          "output_type": "stream",
          "name": "stderr",
          "text": [
            "\n"
          ]
        }
      ],
      "source": [
        "!pip install yfinance pandas numpy tqdm talib pyarrow\n",
        "\n",
        "import yfinance as yf\n",
        "import pandas as pd\n",
        "import numpy as np\n",
        "from tqdm import tqdm\n",
        "import talib\n",
        "import warnings\n",
        "warnings.filterwarnings(\"ignore\")\n",
        "\n",
        "# ===== Config =====\n",
        "START_DATE = \"2015-01-01\"\n",
        "END_DATE = None\n",
        "BATCH_SIZE = 75\n",
        "HOLD_DAYS = 20\n",
        "LIQ_MIN_SHARES = 100000\n",
        "LIQ_MIN_VALUE_CR = 5.0\n",
        "MIN_HISTORY_DAYS = 600\n",
        "TOP_K_OUTPUT = 10\n",
        "\n",
        "# Example tickers (replace with your full NSE list)\n",
        "tickers_all = [\"HYBRIDFIN.NS\" ,\"BGRENERGY.NS\" ,\"STALLION.NS\" ,\"INDOTHAI.NS\" ,\"GMBREW.NS\" ,\"MCLEODRUSS.NS\" ,\"VISASTEEL.NS\" ,\"TAC.NS\" ,\"MANAV.NS\" ,\"SPCENET.NS\" ,\"SOMATEX.NS\" ,\"SIKKO.NS\" ,\"LATTEYS.NS\" ,\"DRSCARGO.NS\" ,\"VMARCIND.NS\" ,\"MAHASTEEL.NS\" ,\"SHTR.NS\" ,\"TIRUPATI.NS\" ,\"SANDUMA.NS\" ,\"MASKINVEST.NS\" ,\"SAMBHAAV.NS\" ,\"ATHERENERG.NS\" ,\"TICL.NS\" ,\"ZENITHSTL.NS\" ,\"TARAPUR.NS\" ,\"JINDALPHOT.NS\" ,\"SOUTHBANK.NS\" ,\"ACUTAAS.NS\" ,\"SKYGOLD.NS\" ,\"ATLANTAA.NS\" ,\"ARIHANTACA.NS\" ,\"BHARATSE.NS\" ,\"INDRAMEDCO.NS\" ,\"IIFLCAPS.NS\" ,\"INOXGREEN.NS\" ,\"MAANALU.NS\" ,\"POCL.NS\" ,\"CEATLTD.NS\" ,\"FICRF3GP.NS\" ,\"TARACHAND.NS\" ,\"ASCOM.NS\" ,\"PURPLEUTED.NS\" ,\"KERNEX.NS\" ,\"BSE.NS\" ,\"AVALON.NS\" ,\"MINDTECK.NS\" ,\"CENTEXT.NS\" ,\"ORIANA.NS\" ,\"TSFINV.NS\" ,\"ANIKINDS.NS\" ,\"PROZONER.NS\" ,\"V2RETAIL.NS\" ,\"MVKAGRO.NS\" ,\"INDIAGLYCO.NS\" ,\"MRPL.NS\" ,\"FEDERALBNK.NS\" ,\"360ONE.NS\" ,\"PERSISTENT.NS\" ,\"DESTINY.NS\" ,\"SAMPANN.NS\" ,\"NEULANDLAB.NS\" ,\"TVSHLTD.NS\" ,\"KARURVYSYA.NS\" ,\"TREJHARA.NS\" ,\"FORTIS.NS\" ,\"ANGELONE.NS\" ,\"ASLIND.NS\" ,\"CUPID.NS\" ,\"JKTYRE.NS\" ,\"DYNAMATECH.NS\" ,\"MANAKCOAT.NS\" ,\"ADANIPOWER.NS\" ,\"GRCL.NS\" ,\"SALSTEEL.NS\" ,\"HERCULES.NS\" ,\"MCX.NS\" ,\"SMSPHARMA.NS\" ,\"MOLDTECH.NS\" ,\"INDIANB.NS\" ,\"GILLANDERS.NS\" ,\"ORBTEXP.NS\" ,\"ASTERDM.NS\" ,\"KICL.NS\" ,\"TECHERA.NS\" ,\"NUVAMA.NS\" ,\"SEJALLTD.NS\" ,\"SHRIRAMFIN.NS\" ,\"ETHOSLTD.NS\" ,\"PRECWIRE.NS\" ,\"WELINV.NS\" ,\"AAREYDRUGS.NS\" ,\"SWARAJ.NS\" ,\"PRESTIGE.NS\" ,\"BSL.NS\" ,\"PGEL.NS\" ,\"CIGNITITEC.NS\" ,\"LEMERITE.NS\" ,\"KALYANIFRG.NS\" ,\"HCG.NS\" ,\"VASCONEQ.NS\" ,\"LTF.NS\" ,\"POLYSIL.NS\" ,\"NAGREEKCAP.NS\" ,\"RAMKY.NS\" ,\"HBLENGINE.NS\" ,\"RADICO.NS\" ,\"ESILVER.NS\" ,\"BLACKBUCK.NS\" ,\"ATALREAL.NS\" ,\"TDPOWERSYS.NS\" ,\"NATIONALUM.NS\" ,\"NSIL.NS\" ,\"MBAPL.NS\" ,\"GLOBALVECT.NS\" ,\"SILINV.NS\" ,\"QGOLDHALF.NS\" ,\"GOLD1.NS\" ,\"GOLDSHARE.NS\" ,\"MOTILALOFS.NS\" ,\"HDFCGOLD.NS\" ,\"RELIABLE.NS\" ,\"SETFGOLD.NS\" ,\"ANANDRATHI.NS\" ,\"SILVERBEES.NS\" ,\"PARAGMILK.NS\" ,\"GOLDETF.NS\" ,\"GOLDETFADD.NS\" ,\"BSLGOLDETF.NS\" ,\"IVZINGOLD.NS\" ,\"AXISGOLD.NS\" ,\"GOLDBEES.NS\" ,\"BANKINDIA.NS\" ,\"HPTL.NS\" ,\"MON100.NS\" ,\"AXISILVER.NS\" ,\"SILVERIETF.NS\" ,\"GOLDIETF.NS\" ,\"NAM-INDIA.NS\" ,\"INM.NS\" ,\"SOMICONVEY.NS\" ,\"KPIGREEN.NS\" ,\"GICL.NS\" ,\"PRAMARA.NS\" ,\"JAINAM.NS\" ,\"SILVER1.NS\" ,\"ORISSAMINE.NS\" ,\"SILVER.NS\" ,\"HDFCSILVER.NS\" ,\"HINDCOPPER.NS\" ,\"SILVERADD.NS\" ,\"INDNIPPON.NS\" ,\"SIGMA.NS\" ,\"SILVERAG.NS\" ,\"MAHABANK.NS\" ,\"PTCIL.NS\" ,\"SKMEGGPROD.NS\" ,\"WELENT.NS\" ,\"TI.NS\" ,\"BHARATWIRE.NS\" ,\"KRISHANA.NS\" ,\"ITI.NS\" ,\"CADSYS.NS\" ,\"MUTHOOTFIN.NS\" ,\"PILANIINVS.NS\" ,\"REGENCERAM.NS\" ,\"HITECHGEAR.NS\" ,\"PNB.NS\" ,\"CESC.NS\" ,\"ABCAPITAL.NS\" ,\"GLFL.NS\" ,\"ZOTA.NS\" ,\"BANKBARODA.NS\" ,\"CDSL.NS\" ,\"TEMBO.NS\" ,\"MOS.NS\" ,\"MRF.NS\" ,\"KEYFINSERV.NS\" ,\"AILIMITED.NS\" ,\"KALYANKJIL.NS\" ,\"UCOBANK.NS\" ,\"GOKEX.NS\" ,\"AIRTELPP.NS\" ,\"JPOLYINVST.NS\" ,\"GENESYS.NS\" ,\"HINDZINC.NS\" ,\"KILITCH.NS\" ,\"VIVIANA.NS\" ,\"BMETRICS.NS\" ,\"BRIGADE.NS\" ,\"PSUBNKIETF.NS\" ,\"CANBK.NS\" ,\"PSUBNKBEES.NS\" ,\"PASHUPATI.NS\" ,\"SUMMITSEC.NS\" ,\"BBOX.NS\" ,\"GICRE.NS\" ,\"NBCC.NS\" ,\"PSUBANK.NS\" ,\"MARATHON.NS\" ,\"MAXHEALTH.NS\" ,\"DSSL.NS\" ,\"BHARTIHEXA.NS\" ,\"EFACTOR.NS\" ,\"AGIIL.NS\" ,\"PHOENIXLTD.NS\" ,\"AAATECH.NS\" ,\"CCCL.NS\" ,\"MARKSANS.NS\" ,\"SHAILY.NS\" ,\"PANACEABIO.NS\" ,\"DCMSRIND.NS\" ,\"ANNAPURNA.NS\" ,\"ESSARSHPNG.NS\" ,\"HINDPETRO.NS\" ,\"J&KBANK.NS\" ,\"AEGISLOG.NS\" ,\"SALZERELEC.NS\" ,\"BHARTIARTL.NS\" ,\"TVSMOTOR.NS\" ,\"SBC.NS\" ,\"PARIN.NS\" ,\"JYOTICNC.NS\" ,\"VASWANI.NS\" ,\"INOXWIND.NS\" ,\"FOCE.NS\" ,\"GLOBALPET.NS\" ,\"INDIGO.NS\" ,\"KINGFA.NS\" ,\"AIIL.NS\" ,\"KHAICHEM.NS\" ,\"CHOLAFIN.NS\" ,\"MEDANTA.NS\" ,\"JAYNECOIND.NS\" ,\"ASIANHOTNR.NS\" ,\"SUNPHARMA.NS\" ,\"JMFINANCIL.NS\" ,\"LINC.NS\" ,\"TCPLPACK.NS\" ,\"IOC.NS\" ,\"AURUM.NS\" ,\"ASTRAZEN.NS\" ,\"KRISHIVAL.NS\" ,\"LLOYDSME.NS\" ,\"ARIHANTSUP.NS\" ,\"M&M.NS\" ,\"NARMADA.NS\" ,\"APS.NS\" ,\"SVLL.NS\" ,\"MARINE.NS\" ,\"EMKAY.NS\" ,\"HEROMOTOCO.NS\" ,\"MODTHREAD.NS\" ,\"KSL.NS\" ,\"VEDL.NS\" ,\"TORNTPOWER.NS\" ,\"HUBTOWN.NS\" ,\"ASTRAMICRO.NS\" ,\"APOLLOTYRE.NS\" ,\"VEEKAYEM.NS\" ,\"WSI.NS\" ,\"MIDCAP.NS\" ,\"LUMAXIND.NS\" ,\"POONAWALLA.NS\" ,\"GKWLIMITED.NS\" ,\"NETWEB.NS\" ,\"TIMETECHNO.NS\" ,\"UNIONBANK.NS\" ,\"SJS.NS\" ,\"ADANIPORTS.NS\" ,\"GMRAIRPORT.NS\" ,\"APLAPOLLO.NS\" ,\"ETERNAL.NS\" ,\"YATHARTH.NS\" ,\"VR.NS\" ,\"IFCI.NS\" ,\"SLONE.NS\" ,\"MOVALUE.NS\" ,\"BEL.NS\" ,\"AZAD.NS\" ,\"ONEPOINT.NS\" ,\"MPSLTD.NS\" ,\"MWL.NS\" ,\"AIMTRON.NS\" ,\"ARHAM.NS\" ,\"WINDMACHIN.NS\" ,\"GOODLUCK.NS\" ,\"LLOYDS.NS\" ,\"BAJAJ-AUTO.NS\" ,\"MAZDA.NS\" ,\"POLYCAB.NS\" ,\"DATAPATTNS.NS\" ,\"SUPREMEPWR.NS\" ,\"KTKBANK.NS\" ,\"IREDA.NS\" ,\"MOIL.NS\" ,\"KECL.NS\" ,\"INDHOTEL.NS\" ,\"KFINTECH.NS\" ,\"BHAGYANGR.NS\" ,\"KSOLVES.NS\" ,\"GABRIEL.NS\" ,\"MANORAMA.NS\" ,\"PGIL.NS\" ,\"ARTEMISMED.NS\" ,\"MIDCAPETF.NS\" ,\"BLUESTARCO.NS\" ,\"ESCORTS.NS\" ,\"SSEGL.NS\" ,\"PREMEXPLN.NS\" ,\"TECHNOE.NS\" ,\"HECPROJECT.NS\" ,\"RPGLIFE.NS\" ,\"ICICIB22.NS\" ,\"ATULAUTO.NS\" ,\"PRUDENT.NS\" ,\"HUDCO.NS\" ,\"GRWRHITECH.NS\" ,\"DHANBANK.NS\" ,\"LODHA.NS\" ,\"RCF.NS\" ,\"GESHIP.NS\" ,\"LT.NS\" ,\"VSSL.NS\" ,\"STARCEMENT.NS\" ,\"ECLERX.NS\" ,\"GAIL.NS\" ,\"OLIL.NS\" ,\"GODFRYPHLP.NS\" ,\"SHAHALLOYS.NS\" ,\"LOKESHMACH.NS\" ,\"CELLECOR.NS\" ,\"STEELCAS.NS\" ,\"NHPC.NS\" ,\"AKIKO.NS\" ,\"GMRP&UI.NS\" ,\"PDMJEPAPER.NS\" ,\"IITL.NS\" ,\"BEML.NS\" ,\"PURVA.NS\" ,\"MACOBSTECH.NS\" ,\"HBSL.NS\" ,\"CYBERMEDIA.NS\" ,\"EIMCOELECO.NS\" ,\"MASON.NS\" ,\"TERASOFT.NS\" ,\"NCC.NS\" ,\"EMUDHRA.NS\" ,\"NILASPACES.NS\" ,\"ACE.NS\" ,\"WEALTH.NS\" ,\"BAHETI.NS\" ,\"ZYDUSLIFE.NS\" ,\"BOSCHLTD.NS\" ,\"TALBROAUTO.NS\" ,\"GLAXO.NS\" ,\"THOMASCOOK.NS\" ,\"AUTOIETF.NS\" ,\"TRENT.NS\" ,\"IRISDOREME.NS\" ,\"AUTOBEES.NS\" ,\"HAL.NS\" ,\"VBL.NS\" ,\"ADSL.NS\" ,\"IRFC.NS\" ,\"EXIDEIND.NS\" ,\"GANECOS.NS\" ,\"EIHOTEL.NS\" ,\"INNOVANA.NS\" ,\"REMSONSIND.NS\" ,\"SYSTANGO.NS\" ,\"KAMI.NS\" ,\"KAMDHENU.NS\" ,\"AJMERA.NS\" ,\"DHUNINV.NS\" ,\"APARINDS.NS\" ,\"BDL.NS\" ,\"CPSEETF.NS\" ,\"BECTORFOOD.NS\" ,\"KEI.NS\" ,\"SAKAR.NS\" ,\"URAVIDEF.NS\" ,\"SOLARINDS.NS\" ,\"TIRUPATIFL.NS\" ,\"ANUP.NS\" ,\"VOLTAMP.NS\" ,\"ASAHIINDIA.NS\" ,\"OILCOUNTUB.NS\" ,\"BLKASHYAP.NS\" ,\"RKFORGE.NS\" ,\"NH.NS\" ,\"JYOTHYLAB.NS\" ,\"POWERGRID.NS\" ,\"ASIANENE.NS\" ,\"MANGCHEFER.NS\" ,\"TIIL.NS\" ,\"EIHAHOTELS.NS\" ,\"PANACHE.NS\" ,\"CHENNPETRO.NS\" ,\"GANESHHOU.NS\" ,\"RECLTD.NS\" ,\"VISAMAN.NS\" ,\"ITC.NS\" ,\"WINDLAS.NS\" ,\"SIRCA.NS\" ,\"SHYAMMETL.NS\" ,\"TBZ.NS\" ,\"ARROWGREEN.NS\" ,\"GRPLTD.NS\" ,\"GVT&D.NS\" ,\"AARTIPHARM.NS\" ,\"KPIL.NS\" ,\"FLUOROCHEM.NS\" ,\"SIGNATURE.NS\" ,\"OBSCP.NS\" ,\"HDFCAMC.NS\" ,\"CHOICEIN.NS\" ,\"HSCL.NS\" ,\"JPPOWER.NS\" ,\"LTFOODS.NS\" ,\"SIDDHIKA.NS\" ,\"PENINLAND.NS\" ,\"URBAN.NS\" ,\"KARNIKA.NS\" ,\"CUMMINSIND.NS\" ,\"MBLINFRA.NS\" ,\"STYRENIX.NS\" ,\"ENSER.NS\" ,\"SHARDAMOTR.NS\" ,\"PRIMESECU.NS\" ,\"SHRIPISTON.NS\" ,\"JKCEMENT.NS\" ,\"JBCHEPHARM.NS\" ,\"LUPIN.NS\" ,\"FIEMIND.NS\" ,\"ASHAPURMIN.NS\" ,\"NTPC.NS\" ,\"BHEL.NS\" ,\"ENGINERSIN.NS\" ,\"ABB.NS\" ,\"USHAMART.NS\" ,\"NPST.NS\" ,\"ERIS.NS\" ,\"JAGSNPHARM.NS\" ,\"MINDACORP.NS\" ,\"KIRLOSBROS.NS\" ,\"VOLERCAR.NS\" ,\"AMBER.NS\" ,\"SHIVAUM.NS\" ,\"KHAITANLTD.NS\" ,\"CARERATING.NS\" ,\"GRSE.NS\" ,\"SKP.NS\" ,\"LLOYDSENGG.NS\" ,\"FORCEMOT.NS\" ,\"RSYSTEMS.NS\" ,\"REDINGTON.NS\" ,\"MARUTI.NS\" ,\"OFSS.NS\" ,\"AURIONPRO.NS\" ,\"VARROC.NS\" ,\"BAGFILMS.NS\" ,\"NAVKARCORP.NS\" ,\"KSCL.NS\" ,\"CHOLAHLDNG.NS\" ,\"SOBHA.NS\" ,\"BBTCL.NS\" ,\"GIPCL.NS\" ,\"WENDT.NS\" ,\"UNITECH.NS\" ,\"TRITURBINE.NS\" ,\"DOLPHIN.NS\" ,\"HCC.NS\" ,\"TITAGARH.NS\" ,\"ELECTCAST.NS\" ,\"ARVIND.NS\" ,\"AVPINFRA.NS\" ,\"SURANAT&P.NS\" ,\"COALINDIA.NS\" ,\"MASTER.NS\" ,\"NDGL.NS\" ,\"MAZDOCK.NS\" ,\"NMDC.NS\" ,\"SCI.NS\" ,\"SGIL.NS\" ,\"BIKAJI.NS\" ,\"GAYAHWS.NS\" ,\"MACPOWER.NS\" ,\"TCI.NS\" ,\"TORNTPHARM.NS\" ,\"JGCHEM.NS\" ,\"DATAMATICS.NS\" ,\"LEMONTREE.NS\" ,\"IRCON.NS\" ,\"RML.NS\" ,\"WOCKPHARMA.NS\" ,\"PFC.NS\" ,\"COMMITTED.NS\" ,\"CGPOWER.NS\" ,\"DYCL.NS\" ,\"GRAVITA.NS\" ,\"VISHNU.NS\" ,\"JKIL.NS\" ,\"SIEMENS.NS\" ,\"UPLPP1.NS\" ,\"BURNPUR.NS\" ,\"JETKNIT.NS\" ,\"MINDPOOL.NS\" ,\"VISESHINFO.NS\" ,\"ARSSINFRA.NS\" ,\"NTL.NS\" ,\"TECHIN.NS\" ,\"SPENTEX.NS\" ,\"AVSL.NS\" ,\"EC6RG.NS\" ,\"AURUMPP.NS\" ,\"UNIVAFOODS.NS\" ,\"GFSTEELS.NS\" ,\"REXPIPES.NS\" ,\"ARCHIDPLY.NS\" ,\"MPTODAY.NS\" ,\"MAXIND.NS\" ,\"ABINFRA.NS\" ,\"ESABINDIA.NS\" ,\"SUNFLAG.NS\" ,\"TIINDIA.NS\" ,\"BETA.NS\" ,\"BHAGCHEM.NS\" ,\"SKIPPER.NS\" ,\"RITES.NS\" ,\"STAR.NS\" ,\"EUROBOND.NS\" ,\"DEVIT.NS\" ,\"RHL.NS\" ,\"ZAGGLE.NS\" ,\"NINSYS.NS\" ,\"INDOTECH.NS\" ,\"SHREERAMA.NS\" ,\"DODLA.NS\" ,\"TFCILTD.NS\" ,\"EIDPARRY.NS\" ,\"ARVSMART.NS\" ,\"OSWALAGRO.NS\" ,\"BEDMUTHA.NS\" ,\"KAMATHOTEL.NS\" ,\"SHANTIGEAR.NS\" ,\"CHALET.NS\" ,\"CEMPRO.NS\" ,\"EMKAYTOOLS.NS\" ,\"WEL.NS\" ,\"EICHERMOT.NS\" ,\"PRICOLLTD.NS\" ,\"RSSOFTWARE.NS\" ,\"KAPSTON.NS\" ,\"JAIBALAJI.NS\" ,\"JASH.NS\" ,\"COROMANDEL.NS\" ,\"THERMAX.NS\" ,\"JSL.NS\" ,\"PCJEWELLER.NS\" ,\"CMNL.NS\" ,\"WEBELSOLAR.NS\" ,\"AVG.NS\" ,\"MDL.NS\" ,\"BAJAJHLDNG.NS\" ,\"SUPREMEINF.NS\" ,\"SWARAJENG.NS\" ,\"GULFOILLUB.NS\" ,\"SANGHVIMOV.NS\" ,\"OIL.NS\" ,\"LRRPL.NS\" ,\"SYNCOMF.NS\" ,\"TAJGVK.NS\" ,\"MASPTOP50.NS\" ,\"GVPTECH.NS\" ,\"ORICONENT.NS\" ,\"KIMS.NS\" ,\"NEWGEN.NS\" ,\"LOTUSEYE.NS\" ,\"GSMFOILS.NS\" ,\"CORDSCABLE.NS\" ,\"RAMASTEEL.NS\" ,\"SPAL.NS\" ,\"NESCO.NS\" ,\"ELECTHERM.NS\" ,\"SHAKTIPUMP.NS\" ,\"DUGLOBAL.NS\" ,\"NDLVENTURE.NS\" ,\"SOFTTECH.NS\" ,\"PENIND.NS\" ,\"SHARDACROP.NS\" ,\"GEEKAYWIRE.NS\" ,\"SUMIT.NS\" ,\"POWERMECH.NS\" ,\"KSB.NS\" ,\"CRAFTSMAN.NS\" ,\"IONEXCHANG.NS\" ,\"QPOWER.NS\" ,\"CAPLIPOINT.NS\" ,\"SERVOTECH.NS\" ,\"RPOWER.NS\" ,\"PARTYCRUS.NS\" ,\"GREENPOWER.NS\" ,\"IMAGICAA.NS\" ,\"TEGA.NS\" ,\"NIITLTD.NS\" ,\"KOHINOOR.NS\" ,\"STEELCITY.NS\" ,\"MAHSCOOTER.NS\" ,\"GOLDKART.NS\" ,\"SRM.NS\" ,\"RAINBOW.NS\" ,\"MAFANG.NS\" ,\"GPIL.NS\" ,\"LCCINFOTEC.NS\" ,\"SILVERTUC.NS\" ,\"ATMASTCO.NS\" ,\"BTML.NS\" ,\"MIDHANI.NS\" ,\"FOCUS.NS\" ,\"KEEPLEARN.NS\" ,\"RADAAN.NS\" ,\"VADILALIND.NS\" ,\"CREST.NS\" ,\"UNIVCABLES.NS\" ,\"VENUSPIPES.NS\" ,\"GMDCLTD.NS\" ,\"VINYAS.NS\" ,\"TIL.NS\" ,\"FOSECOIND.NS\" ,\"CHEMBOND.NS\" ,\"NORBTEAEXP.NS\" ,\"NITCO.NS\" ,\"HMT.NS\" ,\"SJVN.NS\" ,\"CONTI.NS\" ,\"MOHITIND.NS\" ,\"INFINIUM.NS\" ,\"GENUSPOWER.NS\" ,\"LFIC.NS\" ,\"MANINDS.NS\" ,\"KOTHARIPET.NS\" ,\"RUCHIRA.NS\" ,\"RAILTEL.NS\" ,\"BALUFORGE.NS\" ,\"CROWN.NS\" ,\"RAMRAT.NS\" ,\"HARDWYN.NS\" ,\"HIGREEN.NS\" ,\"JINDALSTEL.NS\" ,\"KIRLOSIND.NS\" ,\"MAGNUM.NS\" ,\"KRISHNADEF.NS\" ,\"PARADEEP.NS\" ,\"KORE.NS\" ,\"CLSEL.NS\" ,\"IRIS.NS\" ,\"SCHNEIDER.NS\" ,\"KITEX.NS\" ,\"THANGAMAYL.NS\" ,\"MONARCH.NS\" ,\"ROSSELLIND.NS\" ,\"RVNL.NS\" ,\"CUBEXTUB.NS\" ,\"PAVNAIND.NS\" ,\"INGERRAND.NS\" ,\"SDBL.NS\" ,\"ESSENTIA.NS\" ,\"TRF.NS\" ,\"SYRMA.NS\" ,\"HINDCON.NS\" ,\"TAINWALCHM.NS\" ,\"WABAG.NS\" ,\"MTNL.NS\" ,\"CCHHL.NS\" ,\"TEXRAIL.NS\" ,\"MEGASOFT.NS\" ,\"ARVEE.NS\" ,\"BBL.NS\" ,\"MICEL.NS\" ,\"THOMASCOTT.NS\" ,\"UNOMINDA.NS\" ,\"KCK.NS\" ,\"MODISONLTD.NS\" ,\"IMFA.NS\" ,\"WELCORP.NS\" ,\"TARIL.NS\" ,\"HPL.NS\" ,\"OSELDEVICE.NS\" ,\"BLS.NS\" ,\"SCHAEFFLER.NS\" ,\"MHLXMIRU.NS\" ,\"KKCL.NS\" ,\"ZTECH.NS\" ,\"WIPL.NS\" ,\"DENTALKART.NS\" ,\"CENTUM.NS\" ,\"WINSOME.NS\" ,\"LINDEINDIA.NS\" ,\"KIRLOSENG.NS\" ,\"AHLUCONT.NS\" ,\"ROHLTD.NS\" ,\"KANDARP.NS\" ,\"PRITIKA.NS\" ,\"GANDHITUBE.NS\" ,\"AARVI.NS\" ,\"MSPL.NS\" ,\"PCBL.NS\" ,\"CANTABIL.NS\" ,\"SPECTRUM.NS\" ,\"RTNPOWER.NS\" ,\"KRITIKA.NS\" ,\"HONDAPOWER.NS\" ,\"GLOBAL.NS\" ,\"DLINKINDIA.NS\" ,\"ELECON.NS\" ,\"ZENITHEXPO.NS\" ,\"FELIX.NS\" ,\"UNIVASTU.NS\" ,\"SHRADHA.NS\" ,\"SUZLON.NS\" ,\"ELGIEQUIP.NS\" ,\"TFL.NS\" ,\"SAFARI.NS\" ,\"NDRAUTO.NS\" ,\"POLYMED.NS\" ,\"RITCO.NS\" ,\"COCHINSHIP.NS\" ,\"KPRMILL.NS\" ,\"AGROPHOS.NS\" ,\"JWL.NS\" ,\"ASHOKLEY.NS\" ,\"LGBBROSLTD.NS\" ,\"AURDIS.NS\" ,\"SONUINFRA.NS\" ,\"DEEPINDS.NS\" ,\"MAHSEAMLES.NS\" ,\"COUNCODOS.NS\" ,\"NLCINDIA.NS\" ,\"FIDEL.NS\" ,\"CHEMFAB.NS\" ,\"GRETEX.NS\" ,\"AVONMORE.NS\" ,\"MADRASFERT.NS\" ,\"PARACABLES.NS\" ,\"AGARIND.NS\" ,\"JBMA.NS\" ,\"XPROINDIA.NS\" ,\"DIACABS.NS\" ,\"SHREEKARNI.NS\" ,\"RADHIKAJWE.NS\" ,\"MHHL.NS\" ,\"MKPL.NS\" ,\"UWCSL.NS\" ,\"AARON.NS\" ,\"CCL.NS\" ,\"TCIFINANCE.NS\" ,\"ALLDIGI.NS\" ,\"CONTROLPR.NS\" ,\"ORIENTHOT.NS\" ,\"VESUVIUS.NS\" ,\"METROBRAND.NS\" ,\"SHEKHAWATI.NS\" ,\"PREMIERPOL.NS\" ,\"NITIRAJ.NS\" ,\"SIMPLEXINF.NS\" ,\"RANEHOLDIN.NS\" ,\"20MICRONS.NS\" ,\"JSLL.NS\" ,\"NRBBEARING.NS\" ,\"KDDL.NS\" ,\"DPABHUSHAN.NS\" ,\"KPITTECH.NS\" ,\"VARDMNPOLY.NS\" ,\"ZODIAC.NS\" ,\"JSWHL.NS\" ,\"RAYMOND.NS\" ,\"HARIOMPIPE.NS\" ,\"TEAMGTY.NS\" ,\"ICEMAKE.NS\" ,\"AGI.NS\" ,\"TPHQ.NS\" ,\"REFEX.NS\" ,\"PULZ.NS\" ,\"HIRECT.NS\" ,\"FACT.NS\" ,\"VIMTALABS.NS\" ,\"ATLASCYCLE.NS\" ,\"GLENMARK.NS\" ,\"SEMAC.NS\" ,\"PANSARI.NS\" ,\"PVP.NS\" ,\"VISHNUINFR.NS\" ,\"BOHRAIND.NS\" ,\"RBMINFRA.NS\" ,\"HILTON.NS\" ,\"DENORA.NS\" ,\"BIRLAMONEY.NS\" ,\"WONDERLA.NS\" ,\"ABREL.NS\" ,\"BSHSL.NS\" ,\"ANANTRAJ.NS\" ,\"STEL.NS\" ,\"KAYNES.NS\" ,\"AVROIND.NS\" ,\"CREDITACC.NS\" ,\"INSPIRISYS.NS\" ,\"VIPCLOTHNG.NS\" ,\"PRAKASH.NS\" ,\"ALPEXSOLAR.NS\" ,\"NRL.NS\" ,\"DBCORP.NS\" ,\"TVSELECT.NS\" ,\"EXCEL.NS\" ,\"BIGBLOC.NS\" ,\"TVVISION.NS\" ,\"DEEPAKFERT.NS\" ,\"ARIES.NS\" ,\"SARDAEN.NS\" ,\"TATAINVEST.NS\" ,\"OMFURN.NS\" ,\"PDUMJEIND.NS\" ,\"RICOAUTO.NS\" ,\"WANBURY.NS\" ,\"GEECEE.NS\" ,\"OLECTRA.NS\" ,\"KRITI.NS\" ,\"SURANI.NS\" ,\"ABCOTS.NS\" ,\"KELLTONTEC.NS\" ,\"DGCONTENT.NS\" ,\"MADHAVBAUG.NS\" ,\"PIGL.NS\" ,\"SWELECTES.NS\" ,\"PITTIENG.NS\" ,\"E2E.NS\" ,\"DBREALTY.NS\" ,\"RPPINFRA.NS\" ,\"63MOONS.NS\" ,\"SAKSOFT.NS\" ,\"DIXON.NS\" ,\"BLUECHIP.NS\" ,\"GALLANTT.NS\" ,\"AXISCADES.NS\" ,\"PFOCUS.NS\" ,\"SUVEN.NS\" ,\"DCI.NS\" ,\"ZENTEC.NS\" ,\"RMDRIP.NS\" ,\"POWERINDIA.NS\" ,\"SPMLINFRA.NS\" ,\"APRAMEYA.NS\" ,\"ARIHANTCAP.NS\" ,\"RELINFRA.NS\" ,\"SWANCORP.NS\" ,\"SUBROS.NS\" ,\"LUMAXTECH.NS\" ,\"A2ZINFRA.NS\" ,\"JINDALSAW.NS\" ,\"WALCHANNAG.NS\" ,\"KARMAENG.NS\" ,\"SHUBHSHREE.NS\" ,\"GPTINFRA.NS\" ,\"TARC.NS\" ,\"JINDRILL.NS\" ,\"ZUARIIND.NS\" ,\"PARASPETRO.NS\" ,\"MGEL.NS\" ,\"TECHLABS.NS\" ,\"UNITEDPOLY.NS\" ,\"GOLDSTAR.NS\" ,\"BVCL.NS\" ,\"KESORAMIND.NS\" ,\"REMUS.NS\" ,\"SONAMLTD.NS\" ,\"KOTYARK.NS\" ,\"SBCL.NS\" ,\"SHVB.NS\" ,\"NACLIND.NS\" ,\"NAVA.NS\" ,\"APOLLO.NS\" ,\"ZUARI.NS\" ,\"ASAL.NS\" ,\"KODYTECH.NS\" ,\"S&SPOWER.NS\" ,\"SUDARSCHEM.NS\" ,\"SMLISUZU.NS\" ,\"OMAXAUTO.NS\" ,\"INFOLLION.NS\" ,\"TIPSMUSIC.NS\" ,\"BILVYAPAR.NS\" ,\"VGL.NS\" ,\"BANCOINDIA.NS\" ,\"BEARDSELL.NS\" ,\"BCONCEPTS.NS\" ,\"IL&FSENGG.NS\" ,\"SABTNL.NS\" ,\"VAISHALI.NS\" ,\"BIL.NS\" ,\"OMINFRAL.NS\" ,\"COOLCAPS.NS\" ,\"SAHANA.NS\" ,\"RAJRILTD.NS\" ,\"GOKULAGRO.NS\" ,\"SARVESHWAR.NS\" ,\"KAVDEFENCE.NS\" ,\"SOLEX.NS\" ,\"DYNAMIC.NS\" ,\"IPSL.NS\" ,\"KAUSHALYA.NS\" ,\"PKTEA.NS\" ,\"BLUECOAST.NS\" ,\"LGHL.NS\" ,\"KDL.NS\" ,\"CURAA.NS\" ,\"GIRIRAJ.NS\" ,\"IZMO.NS\"]\n",
        "\n",
        "# ===== Bullish candlestick patterns (subset from your list) =====\n",
        "PATTERNS = {\n",
        "    \"Bullish Belt Hold\": talib.CDLBELTHOLD,\n",
        "    \"Bullish Counter Attack\": talib.CDLCOUNTERATTACK,\n",
        "    \"Bullish Engulfing\": talib.CDLENGULFING,\n",
        "    \"Bullish Harami\": talib.CDLHARAMI,\n",
        "    \"Bullish Harami Cross\": talib.CDLHARAMICROSS,\n",
        "    \"Bullish Kicker\": talib.CDLKICKING,\n",
        "    \"Bullish Piercing\": talib.CDLPIERCING,\n",
        "    \"Bullish Separating Lines\": talib.CDLSEPARATINGLINES,\n",
        "    \"Homing Pigeon\": talib.CDLHOMINGPIGEON,\n",
        "    \"Matching Low\": talib.CDLMATCHINGLOW,\n",
        "    \"Three Inside Up\": talib.CDL3INSIDE,\n",
        "    \"Three Outside Up\": talib.CDL3OUTSIDE,\n",
        "    \"Three White Soldiers\": talib.CDL3WHITESOLDIERS,\n",
        "    \"Upside Tasuki Gap\": talib.CDLTASUKIGAP,\n",
        "}\n",
        "\n",
        "# ===== Helpers =====\n",
        "def load_data_batch(tickers, start=START_DATE, end=END_DATE):\n",
        "    end = end or pd.Timestamp.today().normalize()\n",
        "    return yf.download(tickers, start=start, end=end, interval=\"1d\", auto_adjust=True, progress=False)\n",
        "\n",
        "def passes_liquidity(x):\n",
        "    if len(x) < MIN_HISTORY_DAYS: return False\n",
        "    med_vol = x['Volume'].median()\n",
        "    med_price = x['Close'].median()\n",
        "    med_turn_cr = (med_price * med_vol) / 1e7\n",
        "    return (med_vol >= LIQ_MIN_SHARES) and (med_turn_cr >= LIQ_MIN_VALUE_CR)\n",
        "\n",
        "def evaluate_series(returns):\n",
        "    returns = returns.dropna()\n",
        "    if len(returns) == 0:\n",
        "        return {\"N\": 0, \"WinRate\": 0, \"AvgGain\": 0, \"AvgLoss\": 0, \"Expectancy\": 0, \"MedianRet\": 0}\n",
        "    wins, losses = returns[returns > 0], returns[returns <= 0]\n",
        "    win_rate = len(wins)/len(returns)\n",
        "    avg_gain, avg_loss = wins.mean() if len(wins) else 0, losses.mean() if len(losses) else 0\n",
        "    expectancy = win_rate*avg_gain + (1-win_rate)*avg_loss\n",
        "    return {\n",
        "        \"N\": len(returns),\n",
        "        \"WinRate\": round(win_rate*100,2),\n",
        "        \"AvgGain\": round(avg_gain*100,2),\n",
        "        \"AvgLoss\": round(avg_loss*100,2),\n",
        "        \"Expectancy\": round(expectancy*100,2),\n",
        "        \"MedianRet\": round(returns.median()*100,2)\n",
        "    }\n",
        "\n",
        "# ===== Backtest =====\n",
        "pattern_stats_rows = []\n",
        "\n",
        "for bstart in tqdm(range(0, len(tickers_all), BATCH_SIZE), desc=\"Batches\"):\n",
        "    batch = tickers_all[bstart:bstart+BATCH_SIZE]\n",
        "    data = load_data_batch(batch)\n",
        "\n",
        "    for t in batch:\n",
        "        try:\n",
        "            x = pd.DataFrame({\n",
        "                'Open': data['Open'][t],\n",
        "                'High': data['High'][t],\n",
        "                'Low': data['Low'][t],\n",
        "                'Close': data['Close'][t],\n",
        "                'Volume': data['Volume'][t]\n",
        "            }).dropna()\n",
        "        except Exception:\n",
        "            continue\n",
        "\n",
        "        if not passes_liquidity(x): continue\n",
        "\n",
        "        # Precompute filters\n",
        "        vol_filter = x['Volume'] > x['Volume'].rolling(20).mean()\n",
        "        trend_filter = x['Close'] > x['Close'].rolling(50).mean()\n",
        "        pullback_filter = (x['Close'].pct_change(5) < 0) | (x['Close'].pct_change(10) < 0)\n",
        "\n",
        "        for pname, func in PATTERNS.items():\n",
        "            sig = func(x['Open'],x['High'],x['Low'],x['Close'])\n",
        "            bull_mask = (sig > 0) & vol_filter & trend_filter & pullback_filter\n",
        "\n",
        "            # Entry = NEXT DAY open\n",
        "            entries = bull_mask.shift(1).fillna(False)\n",
        "            entry_idx = x.index[entries]\n",
        "\n",
        "            if len(entry_idx) == 0: continue\n",
        "\n",
        "            # Forward return: from next day open to +HOLD_DAYS close\n",
        "            fwd_returns = []\n",
        "            for dt in entry_idx:\n",
        "                try:\n",
        "                    entry_price = x.loc[dt,'Open']\n",
        "                    exit_idx = x.index.get_loc(dt)+HOLD_DAYS\n",
        "                    if exit_idx < len(x):\n",
        "                        exit_price = x['Close'].iloc[exit_idx]\n",
        "                        fwd_returns.append((exit_price/entry_price)-1)\n",
        "                except: continue\n",
        "\n",
        "            stats = evaluate_series(pd.Series(fwd_returns))\n",
        "            stats.update({\"Ticker\": t, \"Pattern\": pname})\n",
        "            pattern_stats_rows.append(stats)\n",
        "\n",
        "# ===== Aggregate results =====\n",
        "pattern_stats = pd.DataFrame(pattern_stats_rows)\n",
        "agg = (pattern_stats.groupby(\"Pattern\")[[\"N\",\"WinRate\",\"AvgGain\",\"AvgLoss\",\"Expectancy\",\"MedianRet\"]]\n",
        "       .mean().sort_values([\"Expectancy\",\"WinRate\"], ascending=[False,False]))\n",
        "\n",
        "print(\"\\nAggregated pattern performance (sorted):\")\n",
        "print(agg.head(TOP_K_OUTPUT))"
      ]
    }
  ]
}