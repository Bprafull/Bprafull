{
  "nbformat": 4,
  "nbformat_minor": 0,
  "metadata": {
    "colab": {
      "provenance": [],
      "authorship_tag": "ABX9TyNYiRUfReuwWId2LJgKgxEC",
      "include_colab_link": true
    },
    "kernelspec": {
      "name": "python3",
      "display_name": "Python 3"
    },
    "language_info": {
      "name": "python"
    }
  },
  "cells": [
    {
      "cell_type": "markdown",
      "metadata": {
        "id": "view-in-github",
        "colab_type": "text"
      },
      "source": [
        "<a href=\"https://colab.research.google.com/github/Bprafull/Bprafull/blob/main/monthly_returnsforlast20_years.ipynb\" target=\"_parent\"><img src=\"https://colab.research.google.com/assets/colab-badge.svg\" alt=\"Open In Colab\"/></a>"
      ]
    },
    {
      "cell_type": "code",
      "execution_count": 4,
      "metadata": {
        "colab": {
          "base_uri": "https://localhost:8080/"
        },
        "id": "iR88tjMmjID-",
        "outputId": "8cc7236c-24ad-433a-c4ba-71f99eda3a9d"
      },
      "outputs": [
        {
          "output_type": "stream",
          "name": "stdout",
          "text": [
            "Requirement already satisfied: yfinance in /usr/local/lib/python3.12/dist-packages (0.2.66)\n",
            "Requirement already satisfied: tqdm in /usr/local/lib/python3.12/dist-packages (4.67.1)\n",
            "Requirement already satisfied: pandas>=1.3.0 in /usr/local/lib/python3.12/dist-packages (from yfinance) (2.2.2)\n",
            "Requirement already satisfied: numpy>=1.16.5 in /usr/local/lib/python3.12/dist-packages (from yfinance) (2.0.2)\n",
            "Requirement already satisfied: requests>=2.31 in /usr/local/lib/python3.12/dist-packages (from yfinance) (2.32.4)\n",
            "Requirement already satisfied: multitasking>=0.0.7 in /usr/local/lib/python3.12/dist-packages (from yfinance) (0.0.12)\n",
            "Requirement already satisfied: platformdirs>=2.0.0 in /usr/local/lib/python3.12/dist-packages (from yfinance) (4.5.0)\n",
            "Requirement already satisfied: pytz>=2022.5 in /usr/local/lib/python3.12/dist-packages (from yfinance) (2025.2)\n",
            "Requirement already satisfied: frozendict>=2.3.4 in /usr/local/lib/python3.12/dist-packages (from yfinance) (2.4.6)\n",
            "Requirement already satisfied: peewee>=3.16.2 in /usr/local/lib/python3.12/dist-packages (from yfinance) (3.18.2)\n",
            "Requirement already satisfied: beautifulsoup4>=4.11.1 in /usr/local/lib/python3.12/dist-packages (from yfinance) (4.13.5)\n",
            "Requirement already satisfied: curl_cffi>=0.7 in /usr/local/lib/python3.12/dist-packages (from yfinance) (0.13.0)\n",
            "Requirement already satisfied: protobuf>=3.19.0 in /usr/local/lib/python3.12/dist-packages (from yfinance) (5.29.5)\n",
            "Requirement already satisfied: websockets>=13.0 in /usr/local/lib/python3.12/dist-packages (from yfinance) (15.0.1)\n",
            "Requirement already satisfied: soupsieve>1.2 in /usr/local/lib/python3.12/dist-packages (from beautifulsoup4>=4.11.1->yfinance) (2.8)\n",
            "Requirement already satisfied: typing-extensions>=4.0.0 in /usr/local/lib/python3.12/dist-packages (from beautifulsoup4>=4.11.1->yfinance) (4.15.0)\n",
            "Requirement already satisfied: cffi>=1.12.0 in /usr/local/lib/python3.12/dist-packages (from curl_cffi>=0.7->yfinance) (2.0.0)\n",
            "Requirement already satisfied: certifi>=2024.2.2 in /usr/local/lib/python3.12/dist-packages (from curl_cffi>=0.7->yfinance) (2025.10.5)\n",
            "Requirement already satisfied: python-dateutil>=2.8.2 in /usr/local/lib/python3.12/dist-packages (from pandas>=1.3.0->yfinance) (2.9.0.post0)\n",
            "Requirement already satisfied: tzdata>=2022.7 in /usr/local/lib/python3.12/dist-packages (from pandas>=1.3.0->yfinance) (2025.2)\n",
            "Requirement already satisfied: charset_normalizer<4,>=2 in /usr/local/lib/python3.12/dist-packages (from requests>=2.31->yfinance) (3.4.4)\n",
            "Requirement already satisfied: idna<4,>=2.5 in /usr/local/lib/python3.12/dist-packages (from requests>=2.31->yfinance) (3.11)\n",
            "Requirement already satisfied: urllib3<3,>=1.21.1 in /usr/local/lib/python3.12/dist-packages (from requests>=2.31->yfinance) (2.5.0)\n",
            "Requirement already satisfied: pycparser in /usr/local/lib/python3.12/dist-packages (from cffi>=1.12.0->curl_cffi>=0.7->yfinance) (2.23)\n",
            "Requirement already satisfied: six>=1.5 in /usr/local/lib/python3.12/dist-packages (from python-dateutil>=2.8.2->pandas>=1.3.0->yfinance) (1.17.0)\n"
          ]
        },
        {
          "output_type": "stream",
          "name": "stderr",
          "text": [
            "\r  0%|          | 0/1 [00:00<?, ?it/s]ERROR:yfinance:\n",
            "22 Failed downloads:\n",
            "ERROR:yfinance:['AIRTELPP.NS', 'FOCE.NS', 'AURUMPP.NS', 'OSELDEVICE.NS', 'SHUBHSHREE.NS', 'KAMI.NS', 'PURPLEUTED.NS', 'APRAMEYA.NS', 'PDUMJEIND.NS', 'HPTL.NS', 'MACOBSTECH.NS', 'SSEGL.NS', 'TECHERA.NS', 'ARHAM.NS', 'VOLERCAR.NS', 'FICRF3GP.NS', 'OBSCP.NS', 'SHTR.NS', 'EC6RG.NS', 'UPLPP1.NS', 'SHVB.NS', 'DRSCARGO.NS']: YFTzMissingError('possibly delisted; no timezone found')\n",
            "/tmp/ipython-input-1104844036.py:32: FutureWarning: The default fill_method='pad' in Series.pct_change is deprecated and will be removed in a future version. Either fill in any non-leading NA values prior to calling pct_change or specify 'fill_method=None' to not fill NA values.\n",
            "  monthly_returns = (monthly_prices.pct_change() * 100).dropna()\n",
            "100%|██████████| 1/1 [02:55<00:00, 175.41s/it]\n"
          ]
        },
        {
          "output_type": "stream",
          "name": "stdout",
          "text": [
            "         Ticker  Year  Month  Monthly Return (%)\n",
            "0  HYBRIDFIN.NS  2023      1              -29.26\n",
            "1  HYBRIDFIN.NS  2023      2              -30.17\n",
            "2  HYBRIDFIN.NS  2023      3              -28.16\n",
            "3  HYBRIDFIN.NS  2023      4               54.05\n",
            "4  HYBRIDFIN.NS  2023      5              -21.93\n",
            "Ticker      20MICRONS.NS  360ONE.NS  63MOONS.NS  A2ZINFRA.NS  AAATECH.NS  \\\n",
            "YearMonth                                                                  \n",
            "2025-06-01          2.41      19.76       17.08        14.14       -5.71   \n",
            "2025-07-01          1.84     -11.87        0.92        12.70        3.45   \n",
            "2025-08-01         -1.54      -3.29      -10.52       -11.82       -7.00   \n",
            "2025-09-01        -10.27       0.58       -7.28       -12.47        1.80   \n",
            "2025-10-01          1.62      15.79       -6.15        -1.36       13.10   \n",
            "\n",
            "Ticker      AAREYDRUGS.NS  AARON.NS  AARTIPHARM.NS  AARVI.NS  ABB.NS  ...  \\\n",
            "YearMonth                                                             ...   \n",
            "2025-06-01          25.74     -4.74          -2.27     -4.57    1.83  ...   \n",
            "2025-07-01          -3.47     21.92           2.34     -8.30   -9.38  ...   \n",
            "2025-08-01          -8.35     -3.23          -7.67     26.24   -9.10  ...   \n",
            "2025-09-01          37.70    -13.22          -1.36     -7.07    3.69  ...   \n",
            "2025-10-01           6.23      0.95           0.57     -0.82   -0.04  ...   \n",
            "\n",
            "Ticker      ZAGGLE.NS  ZENITHEXPO.NS  ZENITHSTL.NS  ZENTEC.NS  ZODIAC.NS  \\\n",
            "YearMonth                                                                  \n",
            "2025-06-01      -4.70          -9.67         20.96      -7.41     -10.19   \n",
            "2025-07-01      -8.17         -10.56          1.44     -26.10      -4.49   \n",
            "2025-08-01       3.51          15.37         -9.37      -0.17     -13.95   \n",
            "2025-09-01     -11.81          -2.36         -9.42      -1.84       1.34   \n",
            "2025-10-01       4.81          -3.57         42.49      -2.53      -4.30   \n",
            "\n",
            "Ticker      ZOTA.NS  ZTECH.NS  ZUARI.NS  ZUARIIND.NS  ZYDUSLIFE.NS  \n",
            "YearMonth                                                           \n",
            "2025-06-01    -2.50     -4.03      2.58         1.36          6.45  \n",
            "2025-07-01    24.59     10.63     56.02         8.58         -0.91  \n",
            "2025-08-01    -1.17    -17.20      8.12        -0.87          1.16  \n",
            "2025-09-01    17.37     16.15    -24.76        17.50          0.09  \n",
            "2025-10-01     8.10     -4.50     -3.80        -4.59          2.34  \n",
            "\n",
            "[5 rows x 892 columns]\n"
          ]
        }
      ],
      "source": [
        "!pip install yfinance tqdm\n",
        "\n",
        "import yfinance as yf\n",
        "import pandas as pd\n",
        "from tqdm import tqdm\n",
        "from datetime import datetime, timedelta\n",
        "\n",
        "def get_monthly_returns_batch(tickers, years=15):\n",
        "    \"\"\"\n",
        "    Fetch monthly returns (%) for the last `years` years for a batch of tickers.\n",
        "    Uses adjusted close if available, else close. Returns a long DataFrame.\n",
        "    \"\"\"\n",
        "    end = pd.Timestamp.today().normalize()\n",
        "    start = end - pd.DateOffset(years=years)\n",
        "\n",
        "    try:\n",
        "        data = yf.download(tickers, start=start, end=end, auto_adjust=False, progress=False)\n",
        "        results = []\n",
        "\n",
        "        for t in tickers:\n",
        "            # Select price series: prefer Adj Close\n",
        "            if ('Adj Close', t) in data.columns:\n",
        "                series = data['Adj Close'][t]\n",
        "            elif ('Close', t) in data.columns:\n",
        "                series = data['Close'][t]\n",
        "            else:\n",
        "                print(f\"No price data for {t}\")\n",
        "                continue\n",
        "\n",
        "            # Monthly end prices, then percent change\n",
        "            monthly_prices = series.resample('ME').last()\n",
        "            monthly_returns = (monthly_prices.pct_change() * 100).dropna()\n",
        "\n",
        "            df = pd.DataFrame({\n",
        "                'Ticker': t,\n",
        "                'Year': monthly_returns.index.year,\n",
        "                'Month': monthly_returns.index.month,\n",
        "                'Monthly Return (%)': monthly_returns.values.round(2)\n",
        "            })\n",
        "            results.append(df)\n",
        "\n",
        "        return pd.concat(results, ignore_index=True) if results else None\n",
        "\n",
        "    except Exception as e:\n",
        "        print(f\"Batch error for {tickers}: {e}\")\n",
        "        return None\n",
        "\n",
        "# Example usage: process in batches of 50\n",
        "tickers = [\"HYBRIDFIN.NS\" ,\"BGRENERGY.NS\" ,\"STALLION.NS\" ,\"INDOTHAI.NS\" ,\"GMBREW.NS\" ,\"MCLEODRUSS.NS\" ,\"VISASTEEL.NS\" ,\"TAC.NS\" ,\"MANAV.NS\" ,\"SPCENET.NS\" ,\"SOMATEX.NS\" ,\"SIKKO.NS\" ,\"LATTEYS.NS\" ,\"DRSCARGO.NS\" ,\"VMARCIND.NS\" ,\"MAHASTEEL.NS\" ,\"SHTR.NS\" ,\"TIRUPATI.NS\" ,\"SANDUMA.NS\" ,\"MASKINVEST.NS\" ,\"SAMBHAAV.NS\" ,\"ATHERENERG.NS\" ,\"TICL.NS\" ,\"ZENITHSTL.NS\" ,\"TARAPUR.NS\" ,\"JINDALPHOT.NS\" ,\"SOUTHBANK.NS\" ,\"ACUTAAS.NS\" ,\"SKYGOLD.NS\" ,\"ATLANTAA.NS\" ,\"ARIHANTACA.NS\" ,\"BHARATSE.NS\" ,\"INDRAMEDCO.NS\" ,\"IIFLCAPS.NS\" ,\"INOXGREEN.NS\" ,\"MAANALU.NS\" ,\"POCL.NS\" ,\"CEATLTD.NS\" ,\"FICRF3GP.NS\" ,\"TARACHAND.NS\" ,\"ASCOM.NS\" ,\"PURPLEUTED.NS\" ,\"KERNEX.NS\" ,\"BSE.NS\" ,\"AVALON.NS\" ,\"MINDTECK.NS\" ,\"CENTEXT.NS\" ,\"ORIANA.NS\" ,\"TSFINV.NS\" ,\"ANIKINDS.NS\" ,\"PROZONER.NS\" ,\"V2RETAIL.NS\" ,\"MVKAGRO.NS\" ,\"INDIAGLYCO.NS\" ,\"MRPL.NS\" ,\"FEDERALBNK.NS\" ,\"360ONE.NS\" ,\"PERSISTENT.NS\" ,\"DESTINY.NS\" ,\"SAMPANN.NS\" ,\"NEULANDLAB.NS\" ,\"TVSHLTD.NS\" ,\"KARURVYSYA.NS\" ,\"TREJHARA.NS\" ,\"FORTIS.NS\" ,\"ANGELONE.NS\" ,\"ASLIND.NS\" ,\"CUPID.NS\" ,\"JKTYRE.NS\" ,\"DYNAMATECH.NS\" ,\"MANAKCOAT.NS\" ,\"ADANIPOWER.NS\" ,\"GRCL.NS\" ,\"SALSTEEL.NS\" ,\"HERCULES.NS\" ,\"MCX.NS\" ,\"SMSPHARMA.NS\" ,\"MOLDTECH.NS\" ,\"INDIANB.NS\" ,\"GILLANDERS.NS\" ,\"ORBTEXP.NS\" ,\"ASTERDM.NS\" ,\"KICL.NS\" ,\"TECHERA.NS\" ,\"NUVAMA.NS\" ,\"SEJALLTD.NS\" ,\"SHRIRAMFIN.NS\" ,\"ETHOSLTD.NS\" ,\"PRECWIRE.NS\" ,\"WELINV.NS\" ,\"AAREYDRUGS.NS\" ,\"SWARAJ.NS\" ,\"PRESTIGE.NS\" ,\"BSL.NS\" ,\"PGEL.NS\" ,\"CIGNITITEC.NS\" ,\"LEMERITE.NS\" ,\"KALYANIFRG.NS\" ,\"HCG.NS\" ,\"VASCONEQ.NS\" ,\"LTF.NS\" ,\"POLYSIL.NS\" ,\"NAGREEKCAP.NS\" ,\"RAMKY.NS\" ,\"HBLENGINE.NS\" ,\"RADICO.NS\" ,\"ESILVER.NS\" ,\"BLACKBUCK.NS\" ,\"ATALREAL.NS\" ,\"TDPOWERSYS.NS\" ,\"NATIONALUM.NS\" ,\"NSIL.NS\" ,\"MBAPL.NS\" ,\"GLOBALVECT.NS\" ,\"SILINV.NS\" ,\"QGOLDHALF.NS\" ,\"GOLD1.NS\" ,\"GOLDSHARE.NS\" ,\"MOTILALOFS.NS\" ,\"HDFCGOLD.NS\" ,\"RELIABLE.NS\" ,\"SETFGOLD.NS\" ,\"ANANDRATHI.NS\" ,\"SILVERBEES.NS\" ,\"PARAGMILK.NS\" ,\"GOLDETF.NS\" ,\"GOLDETFADD.NS\" ,\"BSLGOLDETF.NS\" ,\"IVZINGOLD.NS\" ,\"AXISGOLD.NS\" ,\"GOLDBEES.NS\" ,\"BANKINDIA.NS\" ,\"HPTL.NS\" ,\"MON100.NS\" ,\"AXISILVER.NS\" ,\"SILVERIETF.NS\" ,\"GOLDIETF.NS\" ,\"NAM-INDIA.NS\" ,\"INM.NS\" ,\"SOMICONVEY.NS\" ,\"KPIGREEN.NS\" ,\"GICL.NS\" ,\"PRAMARA.NS\" ,\"JAINAM.NS\" ,\"SILVER1.NS\" ,\"ORISSAMINE.NS\" ,\"SILVER.NS\" ,\"HDFCSILVER.NS\" ,\"HINDCOPPER.NS\" ,\"SILVERADD.NS\" ,\"INDNIPPON.NS\" ,\"SIGMA.NS\" ,\"SILVERAG.NS\" ,\"MAHABANK.NS\" ,\"PTCIL.NS\" ,\"SKMEGGPROD.NS\" ,\"WELENT.NS\" ,\"TI.NS\" ,\"BHARATWIRE.NS\" ,\"KRISHANA.NS\" ,\"ITI.NS\" ,\"CADSYS.NS\" ,\"MUTHOOTFIN.NS\" ,\"PILANIINVS.NS\" ,\"REGENCERAM.NS\" ,\"HITECHGEAR.NS\" ,\"PNB.NS\" ,\"CESC.NS\" ,\"ABCAPITAL.NS\" ,\"GLFL.NS\" ,\"ZOTA.NS\" ,\"BANKBARODA.NS\" ,\"CDSL.NS\" ,\"TEMBO.NS\" ,\"MOS.NS\" ,\"MRF.NS\" ,\"KEYFINSERV.NS\" ,\"AILIMITED.NS\" ,\"KALYANKJIL.NS\" ,\"UCOBANK.NS\" ,\"GOKEX.NS\" ,\"AIRTELPP.NS\" ,\"JPOLYINVST.NS\" ,\"GENESYS.NS\" ,\"HINDZINC.NS\" ,\"KILITCH.NS\" ,\"VIVIANA.NS\" ,\"BMETRICS.NS\" ,\"BRIGADE.NS\" ,\"PSUBNKIETF.NS\" ,\"CANBK.NS\" ,\"PSUBNKBEES.NS\" ,\"PASHUPATI.NS\" ,\"SUMMITSEC.NS\" ,\"BBOX.NS\" ,\"GICRE.NS\" ,\"NBCC.NS\" ,\"PSUBANK.NS\" ,\"MARATHON.NS\" ,\"MAXHEALTH.NS\" ,\"DSSL.NS\" ,\"BHARTIHEXA.NS\" ,\"EFACTOR.NS\" ,\"AGIIL.NS\" ,\"PHOENIXLTD.NS\" ,\"AAATECH.NS\" ,\"CCCL.NS\" ,\"MARKSANS.NS\" ,\"SHAILY.NS\" ,\"PANACEABIO.NS\" ,\"DCMSRIND.NS\" ,\"ANNAPURNA.NS\" ,\"ESSARSHPNG.NS\" ,\"HINDPETRO.NS\" ,\"J&KBANK.NS\" ,\"AEGISLOG.NS\" ,\"SALZERELEC.NS\" ,\"BHARTIARTL.NS\" ,\"TVSMOTOR.NS\" ,\"SBC.NS\" ,\"PARIN.NS\" ,\"JYOTICNC.NS\" ,\"VASWANI.NS\" ,\"INOXWIND.NS\" ,\"FOCE.NS\" ,\"GLOBALPET.NS\" ,\"INDIGO.NS\" ,\"KINGFA.NS\" ,\"AIIL.NS\" ,\"KHAICHEM.NS\" ,\"CHOLAFIN.NS\" ,\"MEDANTA.NS\" ,\"JAYNECOIND.NS\" ,\"ASIANHOTNR.NS\" ,\"SUNPHARMA.NS\" ,\"JMFINANCIL.NS\" ,\"LINC.NS\" ,\"TCPLPACK.NS\" ,\"IOC.NS\" ,\"AURUM.NS\" ,\"ASTRAZEN.NS\" ,\"KRISHIVAL.NS\" ,\"LLOYDSME.NS\" ,\"ARIHANTSUP.NS\" ,\"M&M.NS\" ,\"NARMADA.NS\" ,\"APS.NS\" ,\"SVLL.NS\" ,\"MARINE.NS\" ,\"EMKAY.NS\" ,\"HEROMOTOCO.NS\" ,\"MODTHREAD.NS\" ,\"KSL.NS\" ,\"VEDL.NS\" ,\"TORNTPOWER.NS\" ,\"HUBTOWN.NS\" ,\"ASTRAMICRO.NS\" ,\"APOLLOTYRE.NS\" ,\"VEEKAYEM.NS\" ,\"WSI.NS\" ,\"MIDCAP.NS\" ,\"LUMAXIND.NS\" ,\"POONAWALLA.NS\" ,\"GKWLIMITED.NS\" ,\"NETWEB.NS\" ,\"TIMETECHNO.NS\" ,\"UNIONBANK.NS\" ,\"SJS.NS\" ,\"ADANIPORTS.NS\" ,\"GMRAIRPORT.NS\" ,\"APLAPOLLO.NS\" ,\"ETERNAL.NS\" ,\"YATHARTH.NS\" ,\"VR.NS\" ,\"IFCI.NS\" ,\"SLONE.NS\" ,\"MOVALUE.NS\" ,\"BEL.NS\" ,\"AZAD.NS\" ,\"ONEPOINT.NS\" ,\"MPSLTD.NS\" ,\"MWL.NS\" ,\"AIMTRON.NS\" ,\"ARHAM.NS\" ,\"WINDMACHIN.NS\" ,\"GOODLUCK.NS\" ,\"LLOYDS.NS\" ,\"BAJAJ-AUTO.NS\" ,\"MAZDA.NS\" ,\"POLYCAB.NS\" ,\"DATAPATTNS.NS\" ,\"SUPREMEPWR.NS\" ,\"KTKBANK.NS\" ,\"IREDA.NS\" ,\"MOIL.NS\" ,\"KECL.NS\" ,\"INDHOTEL.NS\" ,\"KFINTECH.NS\" ,\"BHAGYANGR.NS\" ,\"KSOLVES.NS\" ,\"GABRIEL.NS\" ,\"MANORAMA.NS\" ,\"PGIL.NS\" ,\"ARTEMISMED.NS\" ,\"MIDCAPETF.NS\" ,\"BLUESTARCO.NS\" ,\"ESCORTS.NS\" ,\"SSEGL.NS\" ,\"PREMEXPLN.NS\" ,\"TECHNOE.NS\" ,\"HECPROJECT.NS\" ,\"RPGLIFE.NS\" ,\"ICICIB22.NS\" ,\"ATULAUTO.NS\" ,\"PRUDENT.NS\" ,\"HUDCO.NS\" ,\"GRWRHITECH.NS\" ,\"DHANBANK.NS\" ,\"LODHA.NS\" ,\"RCF.NS\" ,\"GESHIP.NS\" ,\"LT.NS\" ,\"VSSL.NS\" ,\"STARCEMENT.NS\" ,\"ECLERX.NS\" ,\"GAIL.NS\" ,\"OLIL.NS\" ,\"GODFRYPHLP.NS\" ,\"SHAHALLOYS.NS\" ,\"LOKESHMACH.NS\" ,\"CELLECOR.NS\" ,\"STEELCAS.NS\" ,\"NHPC.NS\" ,\"AKIKO.NS\" ,\"GMRP&UI.NS\" ,\"PDMJEPAPER.NS\" ,\"IITL.NS\" ,\"BEML.NS\" ,\"PURVA.NS\" ,\"MACOBSTECH.NS\" ,\"HBSL.NS\" ,\"CYBERMEDIA.NS\" ,\"EIMCOELECO.NS\" ,\"MASON.NS\" ,\"TERASOFT.NS\" ,\"NCC.NS\" ,\"EMUDHRA.NS\" ,\"NILASPACES.NS\" ,\"ACE.NS\" ,\"WEALTH.NS\" ,\"BAHETI.NS\" ,\"ZYDUSLIFE.NS\" ,\"BOSCHLTD.NS\" ,\"TALBROAUTO.NS\" ,\"GLAXO.NS\" ,\"THOMASCOOK.NS\" ,\"AUTOIETF.NS\" ,\"TRENT.NS\" ,\"IRISDOREME.NS\" ,\"AUTOBEES.NS\" ,\"HAL.NS\" ,\"VBL.NS\" ,\"ADSL.NS\" ,\"IRFC.NS\" ,\"EXIDEIND.NS\" ,\"GANECOS.NS\" ,\"EIHOTEL.NS\" ,\"INNOVANA.NS\" ,\"REMSONSIND.NS\" ,\"SYSTANGO.NS\" ,\"KAMI.NS\" ,\"KAMDHENU.NS\" ,\"AJMERA.NS\" ,\"DHUNINV.NS\" ,\"APARINDS.NS\" ,\"BDL.NS\" ,\"CPSEETF.NS\" ,\"BECTORFOOD.NS\" ,\"KEI.NS\" ,\"SAKAR.NS\" ,\"URAVIDEF.NS\" ,\"SOLARINDS.NS\" ,\"TIRUPATIFL.NS\" ,\"ANUP.NS\" ,\"VOLTAMP.NS\" ,\"ASAHIINDIA.NS\" ,\"OILCOUNTUB.NS\" ,\"BLKASHYAP.NS\" ,\"RKFORGE.NS\" ,\"NH.NS\" ,\"JYOTHYLAB.NS\" ,\"POWERGRID.NS\" ,\"ASIANENE.NS\" ,\"MANGCHEFER.NS\" ,\"TIIL.NS\" ,\"EIHAHOTELS.NS\" ,\"PANACHE.NS\" ,\"CHENNPETRO.NS\" ,\"GANESHHOU.NS\" ,\"RECLTD.NS\" ,\"VISAMAN.NS\" ,\"ITC.NS\" ,\"WINDLAS.NS\" ,\"SIRCA.NS\" ,\"SHYAMMETL.NS\" ,\"TBZ.NS\" ,\"ARROWGREEN.NS\" ,\"GRPLTD.NS\" ,\"GVT&D.NS\" ,\"AARTIPHARM.NS\" ,\"KPIL.NS\" ,\"FLUOROCHEM.NS\" ,\"SIGNATURE.NS\" ,\"OBSCP.NS\" ,\"HDFCAMC.NS\" ,\"CHOICEIN.NS\" ,\"HSCL.NS\" ,\"JPPOWER.NS\" ,\"LTFOODS.NS\" ,\"SIDDHIKA.NS\" ,\"PENINLAND.NS\" ,\"URBAN.NS\" ,\"KARNIKA.NS\" ,\"CUMMINSIND.NS\" ,\"MBLINFRA.NS\" ,\"STYRENIX.NS\" ,\"ENSER.NS\" ,\"SHARDAMOTR.NS\" ,\"PRIMESECU.NS\" ,\"SHRIPISTON.NS\" ,\"JKCEMENT.NS\" ,\"JBCHEPHARM.NS\" ,\"LUPIN.NS\" ,\"FIEMIND.NS\" ,\"ASHAPURMIN.NS\" ,\"NTPC.NS\" ,\"BHEL.NS\" ,\"ENGINERSIN.NS\" ,\"ABB.NS\" ,\"USHAMART.NS\" ,\"NPST.NS\" ,\"ERIS.NS\" ,\"JAGSNPHARM.NS\" ,\"MINDACORP.NS\" ,\"KIRLOSBROS.NS\" ,\"VOLERCAR.NS\" ,\"AMBER.NS\" ,\"SHIVAUM.NS\" ,\"KHAITANLTD.NS\" ,\"CARERATING.NS\" ,\"GRSE.NS\" ,\"SKP.NS\" ,\"LLOYDSENGG.NS\" ,\"FORCEMOT.NS\" ,\"RSYSTEMS.NS\" ,\"REDINGTON.NS\" ,\"MARUTI.NS\" ,\"OFSS.NS\" ,\"AURIONPRO.NS\" ,\"VARROC.NS\" ,\"BAGFILMS.NS\" ,\"NAVKARCORP.NS\" ,\"KSCL.NS\" ,\"CHOLAHLDNG.NS\" ,\"SOBHA.NS\" ,\"BBTCL.NS\" ,\"GIPCL.NS\" ,\"WENDT.NS\" ,\"UNITECH.NS\" ,\"TRITURBINE.NS\" ,\"DOLPHIN.NS\" ,\"HCC.NS\" ,\"TITAGARH.NS\" ,\"ELECTCAST.NS\" ,\"ARVIND.NS\" ,\"AVPINFRA.NS\" ,\"SURANAT&P.NS\" ,\"COALINDIA.NS\" ,\"MASTER.NS\" ,\"NDGL.NS\" ,\"MAZDOCK.NS\" ,\"NMDC.NS\" ,\"SCI.NS\" ,\"SGIL.NS\" ,\"BIKAJI.NS\" ,\"GAYAHWS.NS\" ,\"MACPOWER.NS\" ,\"TCI.NS\" ,\"TORNTPHARM.NS\" ,\"JGCHEM.NS\" ,\"DATAMATICS.NS\" ,\"LEMONTREE.NS\" ,\"IRCON.NS\" ,\"RML.NS\" ,\"WOCKPHARMA.NS\" ,\"PFC.NS\" ,\"COMMITTED.NS\" ,\"CGPOWER.NS\" ,\"DYCL.NS\" ,\"GRAVITA.NS\" ,\"VISHNU.NS\" ,\"JKIL.NS\" ,\"SIEMENS.NS\" ,\"UPLPP1.NS\" ,\"BURNPUR.NS\" ,\"JETKNIT.NS\" ,\"MINDPOOL.NS\" ,\"VISESHINFO.NS\" ,\"ARSSINFRA.NS\" ,\"NTL.NS\" ,\"TECHIN.NS\" ,\"SPENTEX.NS\" ,\"AVSL.NS\" ,\"EC6RG.NS\" ,\"AURUMPP.NS\" ,\"UNIVAFOODS.NS\" ,\"GFSTEELS.NS\" ,\"REXPIPES.NS\" ,\"ARCHIDPLY.NS\" ,\"MPTODAY.NS\" ,\"MAXIND.NS\" ,\"ABINFRA.NS\" ,\"ESABINDIA.NS\" ,\"SUNFLAG.NS\" ,\"TIINDIA.NS\" ,\"BETA.NS\" ,\"BHAGCHEM.NS\" ,\"SKIPPER.NS\" ,\"RITES.NS\" ,\"STAR.NS\" ,\"EUROBOND.NS\" ,\"DEVIT.NS\" ,\"RHL.NS\" ,\"ZAGGLE.NS\" ,\"NINSYS.NS\" ,\"INDOTECH.NS\" ,\"SHREERAMA.NS\" ,\"DODLA.NS\" ,\"TFCILTD.NS\" ,\"EIDPARRY.NS\" ,\"ARVSMART.NS\" ,\"OSWALAGRO.NS\" ,\"BEDMUTHA.NS\" ,\"KAMATHOTEL.NS\" ,\"SHANTIGEAR.NS\" ,\"CHALET.NS\" ,\"CEMPRO.NS\" ,\"EMKAYTOOLS.NS\" ,\"WEL.NS\" ,\"EICHERMOT.NS\" ,\"PRICOLLTD.NS\" ,\"RSSOFTWARE.NS\" ,\"KAPSTON.NS\" ,\"JAIBALAJI.NS\" ,\"JASH.NS\" ,\"COROMANDEL.NS\" ,\"THERMAX.NS\" ,\"JSL.NS\" ,\"PCJEWELLER.NS\" ,\"CMNL.NS\" ,\"WEBELSOLAR.NS\" ,\"AVG.NS\" ,\"MDL.NS\" ,\"BAJAJHLDNG.NS\" ,\"SUPREMEINF.NS\" ,\"SWARAJENG.NS\" ,\"GULFOILLUB.NS\" ,\"SANGHVIMOV.NS\" ,\"OIL.NS\" ,\"LRRPL.NS\" ,\"SYNCOMF.NS\" ,\"TAJGVK.NS\" ,\"MASPTOP50.NS\" ,\"GVPTECH.NS\" ,\"ORICONENT.NS\" ,\"KIMS.NS\" ,\"NEWGEN.NS\" ,\"LOTUSEYE.NS\" ,\"GSMFOILS.NS\" ,\"CORDSCABLE.NS\" ,\"RAMASTEEL.NS\" ,\"SPAL.NS\" ,\"NESCO.NS\" ,\"ELECTHERM.NS\" ,\"SHAKTIPUMP.NS\" ,\"DUGLOBAL.NS\" ,\"NDLVENTURE.NS\" ,\"SOFTTECH.NS\" ,\"PENIND.NS\" ,\"SHARDACROP.NS\" ,\"GEEKAYWIRE.NS\" ,\"SUMIT.NS\" ,\"POWERMECH.NS\" ,\"KSB.NS\" ,\"CRAFTSMAN.NS\" ,\"IONEXCHANG.NS\" ,\"QPOWER.NS\" ,\"CAPLIPOINT.NS\" ,\"SERVOTECH.NS\" ,\"RPOWER.NS\" ,\"PARTYCRUS.NS\" ,\"GREENPOWER.NS\" ,\"IMAGICAA.NS\" ,\"TEGA.NS\" ,\"NIITLTD.NS\" ,\"KOHINOOR.NS\" ,\"STEELCITY.NS\" ,\"MAHSCOOTER.NS\" ,\"GOLDKART.NS\" ,\"SRM.NS\" ,\"RAINBOW.NS\" ,\"MAFANG.NS\" ,\"GPIL.NS\" ,\"LCCINFOTEC.NS\" ,\"SILVERTUC.NS\" ,\"ATMASTCO.NS\" ,\"BTML.NS\" ,\"MIDHANI.NS\" ,\"FOCUS.NS\" ,\"KEEPLEARN.NS\" ,\"RADAAN.NS\" ,\"VADILALIND.NS\" ,\"CREST.NS\" ,\"UNIVCABLES.NS\" ,\"VENUSPIPES.NS\" ,\"GMDCLTD.NS\" ,\"VINYAS.NS\" ,\"TIL.NS\" ,\"FOSECOIND.NS\" ,\"CHEMBOND.NS\" ,\"NORBTEAEXP.NS\" ,\"NITCO.NS\" ,\"HMT.NS\" ,\"SJVN.NS\" ,\"CONTI.NS\" ,\"MOHITIND.NS\" ,\"INFINIUM.NS\" ,\"GENUSPOWER.NS\" ,\"LFIC.NS\" ,\"MANINDS.NS\" ,\"KOTHARIPET.NS\" ,\"RUCHIRA.NS\" ,\"RAILTEL.NS\" ,\"BALUFORGE.NS\" ,\"CROWN.NS\" ,\"RAMRAT.NS\" ,\"HARDWYN.NS\" ,\"HIGREEN.NS\" ,\"JINDALSTEL.NS\" ,\"KIRLOSIND.NS\" ,\"MAGNUM.NS\" ,\"KRISHNADEF.NS\" ,\"PARADEEP.NS\" ,\"KORE.NS\" ,\"CLSEL.NS\" ,\"IRIS.NS\" ,\"SCHNEIDER.NS\" ,\"KITEX.NS\" ,\"THANGAMAYL.NS\" ,\"MONARCH.NS\" ,\"ROSSELLIND.NS\" ,\"RVNL.NS\" ,\"CUBEXTUB.NS\" ,\"PAVNAIND.NS\" ,\"INGERRAND.NS\" ,\"SDBL.NS\" ,\"ESSENTIA.NS\" ,\"TRF.NS\" ,\"SYRMA.NS\" ,\"HINDCON.NS\" ,\"TAINWALCHM.NS\" ,\"WABAG.NS\" ,\"MTNL.NS\" ,\"CCHHL.NS\" ,\"TEXRAIL.NS\" ,\"MEGASOFT.NS\" ,\"ARVEE.NS\" ,\"BBL.NS\" ,\"MICEL.NS\" ,\"THOMASCOTT.NS\" ,\"UNOMINDA.NS\" ,\"KCK.NS\" ,\"MODISONLTD.NS\" ,\"IMFA.NS\" ,\"WELCORP.NS\" ,\"TARIL.NS\" ,\"HPL.NS\" ,\"OSELDEVICE.NS\" ,\"BLS.NS\" ,\"SCHAEFFLER.NS\" ,\"MHLXMIRU.NS\" ,\"KKCL.NS\" ,\"ZTECH.NS\" ,\"WIPL.NS\" ,\"DENTALKART.NS\" ,\"CENTUM.NS\" ,\"WINSOME.NS\" ,\"LINDEINDIA.NS\" ,\"KIRLOSENG.NS\" ,\"AHLUCONT.NS\" ,\"ROHLTD.NS\" ,\"KANDARP.NS\" ,\"PRITIKA.NS\" ,\"GANDHITUBE.NS\" ,\"AARVI.NS\" ,\"MSPL.NS\" ,\"PCBL.NS\" ,\"CANTABIL.NS\" ,\"SPECTRUM.NS\" ,\"RTNPOWER.NS\" ,\"KRITIKA.NS\" ,\"HONDAPOWER.NS\" ,\"GLOBAL.NS\" ,\"DLINKINDIA.NS\" ,\"ELECON.NS\" ,\"ZENITHEXPO.NS\" ,\"FELIX.NS\" ,\"UNIVASTU.NS\" ,\"SHRADHA.NS\" ,\"SUZLON.NS\" ,\"ELGIEQUIP.NS\" ,\"TFL.NS\" ,\"SAFARI.NS\" ,\"NDRAUTO.NS\" ,\"POLYMED.NS\" ,\"RITCO.NS\" ,\"COCHINSHIP.NS\" ,\"KPRMILL.NS\" ,\"AGROPHOS.NS\" ,\"JWL.NS\" ,\"ASHOKLEY.NS\" ,\"LGBBROSLTD.NS\" ,\"AURDIS.NS\" ,\"SONUINFRA.NS\" ,\"DEEPINDS.NS\" ,\"MAHSEAMLES.NS\" ,\"COUNCODOS.NS\" ,\"NLCINDIA.NS\" ,\"FIDEL.NS\" ,\"CHEMFAB.NS\" ,\"GRETEX.NS\" ,\"AVONMORE.NS\" ,\"MADRASFERT.NS\" ,\"PARACABLES.NS\" ,\"AGARIND.NS\" ,\"JBMA.NS\" ,\"XPROINDIA.NS\" ,\"DIACABS.NS\" ,\"SHREEKARNI.NS\" ,\"RADHIKAJWE.NS\" ,\"MHHL.NS\" ,\"MKPL.NS\" ,\"UWCSL.NS\" ,\"AARON.NS\" ,\"CCL.NS\" ,\"TCIFINANCE.NS\" ,\"ALLDIGI.NS\" ,\"CONTROLPR.NS\" ,\"ORIENTHOT.NS\" ,\"VESUVIUS.NS\" ,\"METROBRAND.NS\" ,\"SHEKHAWATI.NS\" ,\"PREMIERPOL.NS\" ,\"NITIRAJ.NS\" ,\"SIMPLEXINF.NS\" ,\"RANEHOLDIN.NS\" ,\"20MICRONS.NS\" ,\"JSLL.NS\" ,\"NRBBEARING.NS\" ,\"KDDL.NS\" ,\"DPABHUSHAN.NS\" ,\"KPITTECH.NS\" ,\"VARDMNPOLY.NS\" ,\"ZODIAC.NS\" ,\"JSWHL.NS\" ,\"RAYMOND.NS\" ,\"HARIOMPIPE.NS\" ,\"TEAMGTY.NS\" ,\"ICEMAKE.NS\" ,\"AGI.NS\" ,\"TPHQ.NS\" ,\"REFEX.NS\" ,\"PULZ.NS\" ,\"HIRECT.NS\" ,\"FACT.NS\" ,\"VIMTALABS.NS\" ,\"ATLASCYCLE.NS\" ,\"GLENMARK.NS\" ,\"SEMAC.NS\" ,\"PANSARI.NS\" ,\"PVP.NS\" ,\"VISHNUINFR.NS\" ,\"BOHRAIND.NS\" ,\"RBMINFRA.NS\" ,\"HILTON.NS\" ,\"DENORA.NS\" ,\"BIRLAMONEY.NS\" ,\"WONDERLA.NS\" ,\"ABREL.NS\" ,\"BSHSL.NS\" ,\"ANANTRAJ.NS\" ,\"STEL.NS\" ,\"KAYNES.NS\" ,\"AVROIND.NS\" ,\"CREDITACC.NS\" ,\"INSPIRISYS.NS\" ,\"VIPCLOTHNG.NS\" ,\"PRAKASH.NS\" ,\"ALPEXSOLAR.NS\" ,\"NRL.NS\" ,\"DBCORP.NS\" ,\"TVSELECT.NS\" ,\"EXCEL.NS\" ,\"BIGBLOC.NS\" ,\"TVVISION.NS\" ,\"DEEPAKFERT.NS\" ,\"ARIES.NS\" ,\"SARDAEN.NS\" ,\"TATAINVEST.NS\" ,\"OMFURN.NS\" ,\"PDUMJEIND.NS\" ,\"RICOAUTO.NS\" ,\"WANBURY.NS\" ,\"GEECEE.NS\" ,\"OLECTRA.NS\" ,\"KRITI.NS\" ,\"SURANI.NS\" ,\"ABCOTS.NS\" ,\"KELLTONTEC.NS\" ,\"DGCONTENT.NS\" ,\"MADHAVBAUG.NS\" ,\"PIGL.NS\" ,\"SWELECTES.NS\" ,\"PITTIENG.NS\" ,\"E2E.NS\" ,\"DBREALTY.NS\" ,\"RPPINFRA.NS\" ,\"63MOONS.NS\" ,\"SAKSOFT.NS\" ,\"DIXON.NS\" ,\"BLUECHIP.NS\" ,\"GALLANTT.NS\" ,\"AXISCADES.NS\" ,\"PFOCUS.NS\" ,\"SUVEN.NS\" ,\"DCI.NS\" ,\"ZENTEC.NS\" ,\"RMDRIP.NS\" ,\"POWERINDIA.NS\" ,\"SPMLINFRA.NS\" ,\"APRAMEYA.NS\" ,\"ARIHANTCAP.NS\" ,\"RELINFRA.NS\" ,\"SWANCORP.NS\" ,\"SUBROS.NS\" ,\"LUMAXTECH.NS\" ,\"A2ZINFRA.NS\" ,\"JINDALSAW.NS\" ,\"WALCHANNAG.NS\" ,\"KARMAENG.NS\" ,\"SHUBHSHREE.NS\" ,\"GPTINFRA.NS\" ,\"TARC.NS\" ,\"JINDRILL.NS\" ,\"ZUARIIND.NS\" ,\"PARASPETRO.NS\" ,\"MGEL.NS\" ,\"TECHLABS.NS\" ,\"UNITEDPOLY.NS\" ,\"GOLDSTAR.NS\" ,\"BVCL.NS\" ,\"KESORAMIND.NS\" ,\"REMUS.NS\" ,\"SONAMLTD.NS\" ,\"KOTYARK.NS\" ,\"SBCL.NS\" ,\"SHVB.NS\" ,\"NACLIND.NS\" ,\"NAVA.NS\" ,\"APOLLO.NS\" ,\"ZUARI.NS\" ,\"ASAL.NS\" ,\"KODYTECH.NS\" ,\"S&SPOWER.NS\" ,\"SUDARSCHEM.NS\" ,\"SMLISUZU.NS\" ,\"OMAXAUTO.NS\" ,\"INFOLLION.NS\" ,\"TIPSMUSIC.NS\" ,\"BILVYAPAR.NS\" ,\"VGL.NS\" ,\"BANCOINDIA.NS\" ,\"BEARDSELL.NS\" ,\"BCONCEPTS.NS\" ,\"IL&FSENGG.NS\" ,\"SABTNL.NS\" ,\"VAISHALI.NS\" ,\"BIL.NS\" ,\"OMINFRAL.NS\" ,\"COOLCAPS.NS\" ,\"SAHANA.NS\" ,\"RAJRILTD.NS\" ,\"GOKULAGRO.NS\" ,\"SARVESHWAR.NS\" ,\"KAVDEFENCE.NS\" ,\"SOLEX.NS\" ,\"DYNAMIC.NS\" ,\"IPSL.NS\" ,\"KAUSHALYA.NS\" ,\"PKTEA.NS\" ,\"BLUECOAST.NS\" ,\"LGHL.NS\" ,\"KDL.NS\" ,\"CURAA.NS\" ,\"GIRIRAJ.NS\" ,\"IZMO.NS\"]  # extend to 1000\n",
        "batch_size = 1000\n",
        "\n",
        "all_returns = []\n",
        "for i in tqdm(range(0, len(tickers), batch_size)):\n",
        "    batch = tickers[i:i+batch_size]\n",
        "    df = get_monthly_returns_batch(batch, years=15)\n",
        "    if df is not None:\n",
        "        all_returns.append(df)\n",
        "\n",
        "final_monthly_df = pd.concat(all_returns, ignore_index=True)\n",
        "print(final_monthly_df.head())\n",
        "\n",
        "# Optional: pivot for heatmap-style view (Year-Month index)\n",
        "final_monthly_df['YearMonth'] = pd.to_datetime(final_monthly_df['Year'].astype(str) + '-' + final_monthly_df['Month'].astype(str) + '-01')\n",
        "pivot = final_monthly_df.pivot(index='YearMonth', columns='Ticker', values='Monthly Return (%)')\n",
        "print(pivot.tail())\n",
        "final_monthly_df.to_csv(\"monthly_yearly_returns.csv\", index=False)"
      ]
    },
    {
      "cell_type": "code",
      "source": [],
      "metadata": {
        "id": "rO-p6qn0jjT5"
      },
      "execution_count": null,
      "outputs": []
    }
  ]
}